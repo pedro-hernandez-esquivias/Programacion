{
  "cells": [
    {
      "cell_type": "markdown",
      "metadata": {
        "id": "view-in-github",
        "colab_type": "text"
      },
      "source": [
        "<a href=\"https://colab.research.google.com/github/pedro-hernandez-esquivias/Programacion/blob/main/Caso_real_kNN_pedro.ipynb\" target=\"_parent\"><img src=\"https://colab.research.google.com/assets/colab-badge.svg\" alt=\"Open In Colab\"/></a>"
      ]
    },
    {
      "cell_type": "markdown",
      "source": [
        "# 1. **Detección de diabetes en pacientes mediante kNN**"
      ],
      "metadata": {
        "id": "GLZ5dYz5A4rk"
      }
    },
    {
      "metadata": {
        "_uuid": "e72308cb607cb6d768e7d27fccfbe2a69281874e",
        "_cell_guid": "12454ce8-38b2-418e-98ef-69f0a2e96e19",
        "id": "DZI0eaHU-F0K"
      },
      "cell_type": "markdown",
      "source": [
        "**Resumen General**\n",
        "Este cuaderno Jupyter se centra en la construcción de un modelo de aprendizaje automático utilizando el algoritmo k-Nearest Neighbors (kNN) para predecir la presencia de diabetes en pacientes, basándose en el \"Pima Indians Diabetes Dataset\". A través de un enfoque práctico y detallado, el cuaderno guía a los alumnos en el proceso de desarrollo de un modelo predictivo, desde la carga y exploración de datos hasta la evaluación del modelo.\n",
        "\n",
        "**Aspectos Clave**\n",
        "* **Carga y Exploración de Datos**: Se inicia con la importación de librerías necesarias y la carga del conjunto de datos. Se realiza una exploración inicial para entender la estructura y naturaleza de los datos.\n",
        "\n",
        "* **Preparación de Datos**: Se divide el conjunto de datos en conjuntos de entrenamiento y prueba, utilizando una estratificación para mantener la proporción de las etiquetas.\n",
        "\n",
        "* **Entrenamiento del Modelo**: Se entrena un modelo kNN con diferentes valores de K para encontrar el equilibrio óptimo entre precisión de entrenamiento y prueba.\n",
        "\n",
        "* **Evaluación del Modelo**: Se evalúa el modelo utilizando varias métricas, incluyendo la precisión, la matriz de confusión, el informe de clasificación y la curva ROC.\n",
        "\n",
        "* **Ajuste de Hiperparámetros**: Se utiliza GridSearchCV para el ajuste de hiperparámetros, buscando el valor óptimo de K que maximiza la precisión del modelo.\n",
        "\n",
        "**Pasos recomendados y cuestiones**\n",
        "* **Análisis Exploratorio de Datos**: ¿Podríamos profundizar más en el análisis exploratorio para entender mejor las características y su relación con la etiqueta objetivo?\n",
        "\n",
        "* **Preprocesamiento de Datos**: ¿Sería útil aplicar técnicas de normalización o estandarización a los datos? ¿Cómo podrían estas técnicas afectar el rendimiento del modelo kNN?\n",
        "\n",
        "* **Validación Cruzada**: ¿Podríamos emplear la validación cruzada para obtener una estimación más robusta del rendimiento del modelo?\n",
        "\n",
        "* **Interpretación de Resultados**: ¿Cómo interpretaríamos la matriz de confusión y el informe de clasificación en términos de la capacidad del modelo para detectar casos positivos y negativos de diabetes?\n",
        "\n",
        "* **Mejoras en el Modelo**: ¿Qué otras técnicas o algoritmos podríamos explorar para mejorar la precisión de la detección de diabetes?\n",
        "\n",
        "* **Importancia de las Características**: ¿Cómo podríamos determinar qué características son más importantes para la predicción de la diabetes?"
      ]
    },
    {
      "cell_type": "markdown",
      "source": [
        "## 1.1 Cargar CSV de Drive"
      ],
      "metadata": {
        "id": "bdec3XmVU37w"
      }
    },
    {
      "cell_type": "code",
      "source": [
        "# Conexión con drive para obtener el .csv\n",
        "from google.colab import drive\n",
        "drive.mount('/content/drive')"
      ],
      "metadata": {
        "colab": {
          "base_uri": "https://localhost:8080/"
        },
        "id": "M4IWs1dnBrtv",
        "outputId": "d2ab23ea-4b52-487b-ed55-e63d2b4bf5ca"
      },
      "execution_count": null,
      "outputs": [
        {
          "output_type": "stream",
          "name": "stdout",
          "text": [
            "Mounted at /content/drive\n"
          ]
        }
      ]
    },
    {
      "cell_type": "markdown",
      "source": [
        "## 1.2 Importe de librerías"
      ],
      "metadata": {
        "id": "INpIpOWfVGaw"
      }
    },
    {
      "metadata": {
        "_uuid": "333dc72902f9a7b163226cb187cf989768665c43",
        "_cell_guid": "059208d1-5542-4d80-9ee2-cee9a4391e78",
        "collapsed": true,
        "trusted": true,
        "id": "gb8B7A_y-F0O"
      },
      "cell_type": "code",
      "source": [
        "# Se importan las librerías necesarias\n",
        "import numpy as np\n",
        "import pandas as pd\n",
        "import matplotlib.pyplot as plt\n",
        "plt.style.use('ggplot')"
      ],
      "execution_count": 4,
      "outputs": []
    },
    {
      "cell_type": "markdown",
      "source": [
        "## 1.3 Exploración de los datos"
      ],
      "metadata": {
        "id": "JrglskoMVLex"
      }
    },
    {
      "metadata": {
        "_uuid": "d15b5491570a8ec6188b77240ab334f9b68f2655",
        "_cell_guid": "0d788097-f6b8-4fca-99b4-f5102d1bbade",
        "trusted": true,
        "id": "-KYj5OW6-F0P",
        "colab": {
          "base_uri": "https://localhost:8080/",
          "height": 363
        },
        "outputId": "61024113-7590-41b0-e5d4-3a202c0103c9"
      },
      "cell_type": "code",
      "source": [
        "# Carga del dataset\n",
        "df = pd.read_csv('/content/diabetes.csv')\n",
        "\n",
        "# Hacemos un print del dataset para ver qué contiene\n",
        "df.head(10)"
      ],
      "execution_count": 5,
      "outputs": [
        {
          "output_type": "execute_result",
          "data": {
            "text/plain": [
              "   Pregnancies  Glucose  BloodPressure  SkinThickness  Insulin   BMI  \\\n",
              "0            6      148             72             35        0  33.6   \n",
              "1            1       85             66             29        0  26.6   \n",
              "2            8      183             64              0        0  23.3   \n",
              "3            1       89             66             23       94  28.1   \n",
              "4            0      137             40             35      168  43.1   \n",
              "5            5      116             74              0        0  25.6   \n",
              "6            3       78             50             32       88  31.0   \n",
              "7           10      115              0              0        0  35.3   \n",
              "8            2      197             70             45      543  30.5   \n",
              "9            8      125             96              0        0   0.0   \n",
              "\n",
              "   DiabetesPedigreeFunction  Age  Outcome  \n",
              "0                     0.627   50        1  \n",
              "1                     0.351   31        0  \n",
              "2                     0.672   32        1  \n",
              "3                     0.167   21        0  \n",
              "4                     2.288   33        1  \n",
              "5                     0.201   30        0  \n",
              "6                     0.248   26        1  \n",
              "7                     0.134   29        0  \n",
              "8                     0.158   53        1  \n",
              "9                     0.232   54        1  "
            ],
            "text/html": [
              "\n",
              "  <div id=\"df-c5e68aad-652a-48e1-a886-738c2d06afa7\" class=\"colab-df-container\">\n",
              "    <div>\n",
              "<style scoped>\n",
              "    .dataframe tbody tr th:only-of-type {\n",
              "        vertical-align: middle;\n",
              "    }\n",
              "\n",
              "    .dataframe tbody tr th {\n",
              "        vertical-align: top;\n",
              "    }\n",
              "\n",
              "    .dataframe thead th {\n",
              "        text-align: right;\n",
              "    }\n",
              "</style>\n",
              "<table border=\"1\" class=\"dataframe\">\n",
              "  <thead>\n",
              "    <tr style=\"text-align: right;\">\n",
              "      <th></th>\n",
              "      <th>Pregnancies</th>\n",
              "      <th>Glucose</th>\n",
              "      <th>BloodPressure</th>\n",
              "      <th>SkinThickness</th>\n",
              "      <th>Insulin</th>\n",
              "      <th>BMI</th>\n",
              "      <th>DiabetesPedigreeFunction</th>\n",
              "      <th>Age</th>\n",
              "      <th>Outcome</th>\n",
              "    </tr>\n",
              "  </thead>\n",
              "  <tbody>\n",
              "    <tr>\n",
              "      <th>0</th>\n",
              "      <td>6</td>\n",
              "      <td>148</td>\n",
              "      <td>72</td>\n",
              "      <td>35</td>\n",
              "      <td>0</td>\n",
              "      <td>33.6</td>\n",
              "      <td>0.627</td>\n",
              "      <td>50</td>\n",
              "      <td>1</td>\n",
              "    </tr>\n",
              "    <tr>\n",
              "      <th>1</th>\n",
              "      <td>1</td>\n",
              "      <td>85</td>\n",
              "      <td>66</td>\n",
              "      <td>29</td>\n",
              "      <td>0</td>\n",
              "      <td>26.6</td>\n",
              "      <td>0.351</td>\n",
              "      <td>31</td>\n",
              "      <td>0</td>\n",
              "    </tr>\n",
              "    <tr>\n",
              "      <th>2</th>\n",
              "      <td>8</td>\n",
              "      <td>183</td>\n",
              "      <td>64</td>\n",
              "      <td>0</td>\n",
              "      <td>0</td>\n",
              "      <td>23.3</td>\n",
              "      <td>0.672</td>\n",
              "      <td>32</td>\n",
              "      <td>1</td>\n",
              "    </tr>\n",
              "    <tr>\n",
              "      <th>3</th>\n",
              "      <td>1</td>\n",
              "      <td>89</td>\n",
              "      <td>66</td>\n",
              "      <td>23</td>\n",
              "      <td>94</td>\n",
              "      <td>28.1</td>\n",
              "      <td>0.167</td>\n",
              "      <td>21</td>\n",
              "      <td>0</td>\n",
              "    </tr>\n",
              "    <tr>\n",
              "      <th>4</th>\n",
              "      <td>0</td>\n",
              "      <td>137</td>\n",
              "      <td>40</td>\n",
              "      <td>35</td>\n",
              "      <td>168</td>\n",
              "      <td>43.1</td>\n",
              "      <td>2.288</td>\n",
              "      <td>33</td>\n",
              "      <td>1</td>\n",
              "    </tr>\n",
              "    <tr>\n",
              "      <th>5</th>\n",
              "      <td>5</td>\n",
              "      <td>116</td>\n",
              "      <td>74</td>\n",
              "      <td>0</td>\n",
              "      <td>0</td>\n",
              "      <td>25.6</td>\n",
              "      <td>0.201</td>\n",
              "      <td>30</td>\n",
              "      <td>0</td>\n",
              "    </tr>\n",
              "    <tr>\n",
              "      <th>6</th>\n",
              "      <td>3</td>\n",
              "      <td>78</td>\n",
              "      <td>50</td>\n",
              "      <td>32</td>\n",
              "      <td>88</td>\n",
              "      <td>31.0</td>\n",
              "      <td>0.248</td>\n",
              "      <td>26</td>\n",
              "      <td>1</td>\n",
              "    </tr>\n",
              "    <tr>\n",
              "      <th>7</th>\n",
              "      <td>10</td>\n",
              "      <td>115</td>\n",
              "      <td>0</td>\n",
              "      <td>0</td>\n",
              "      <td>0</td>\n",
              "      <td>35.3</td>\n",
              "      <td>0.134</td>\n",
              "      <td>29</td>\n",
              "      <td>0</td>\n",
              "    </tr>\n",
              "    <tr>\n",
              "      <th>8</th>\n",
              "      <td>2</td>\n",
              "      <td>197</td>\n",
              "      <td>70</td>\n",
              "      <td>45</td>\n",
              "      <td>543</td>\n",
              "      <td>30.5</td>\n",
              "      <td>0.158</td>\n",
              "      <td>53</td>\n",
              "      <td>1</td>\n",
              "    </tr>\n",
              "    <tr>\n",
              "      <th>9</th>\n",
              "      <td>8</td>\n",
              "      <td>125</td>\n",
              "      <td>96</td>\n",
              "      <td>0</td>\n",
              "      <td>0</td>\n",
              "      <td>0.0</td>\n",
              "      <td>0.232</td>\n",
              "      <td>54</td>\n",
              "      <td>1</td>\n",
              "    </tr>\n",
              "  </tbody>\n",
              "</table>\n",
              "</div>\n",
              "    <div class=\"colab-df-buttons\">\n",
              "\n",
              "  <div class=\"colab-df-container\">\n",
              "    <button class=\"colab-df-convert\" onclick=\"convertToInteractive('df-c5e68aad-652a-48e1-a886-738c2d06afa7')\"\n",
              "            title=\"Convert this dataframe to an interactive table.\"\n",
              "            style=\"display:none;\">\n",
              "\n",
              "  <svg xmlns=\"http://www.w3.org/2000/svg\" height=\"24px\" viewBox=\"0 -960 960 960\">\n",
              "    <path d=\"M120-120v-720h720v720H120Zm60-500h600v-160H180v160Zm220 220h160v-160H400v160Zm0 220h160v-160H400v160ZM180-400h160v-160H180v160Zm440 0h160v-160H620v160ZM180-180h160v-160H180v160Zm440 0h160v-160H620v160Z\"/>\n",
              "  </svg>\n",
              "    </button>\n",
              "\n",
              "  <style>\n",
              "    .colab-df-container {\n",
              "      display:flex;\n",
              "      gap: 12px;\n",
              "    }\n",
              "\n",
              "    .colab-df-convert {\n",
              "      background-color: #E8F0FE;\n",
              "      border: none;\n",
              "      border-radius: 50%;\n",
              "      cursor: pointer;\n",
              "      display: none;\n",
              "      fill: #1967D2;\n",
              "      height: 32px;\n",
              "      padding: 0 0 0 0;\n",
              "      width: 32px;\n",
              "    }\n",
              "\n",
              "    .colab-df-convert:hover {\n",
              "      background-color: #E2EBFA;\n",
              "      box-shadow: 0px 1px 2px rgba(60, 64, 67, 0.3), 0px 1px 3px 1px rgba(60, 64, 67, 0.15);\n",
              "      fill: #174EA6;\n",
              "    }\n",
              "\n",
              "    .colab-df-buttons div {\n",
              "      margin-bottom: 4px;\n",
              "    }\n",
              "\n",
              "    [theme=dark] .colab-df-convert {\n",
              "      background-color: #3B4455;\n",
              "      fill: #D2E3FC;\n",
              "    }\n",
              "\n",
              "    [theme=dark] .colab-df-convert:hover {\n",
              "      background-color: #434B5C;\n",
              "      box-shadow: 0px 1px 3px 1px rgba(0, 0, 0, 0.15);\n",
              "      filter: drop-shadow(0px 1px 2px rgba(0, 0, 0, 0.3));\n",
              "      fill: #FFFFFF;\n",
              "    }\n",
              "  </style>\n",
              "\n",
              "    <script>\n",
              "      const buttonEl =\n",
              "        document.querySelector('#df-c5e68aad-652a-48e1-a886-738c2d06afa7 button.colab-df-convert');\n",
              "      buttonEl.style.display =\n",
              "        google.colab.kernel.accessAllowed ? 'block' : 'none';\n",
              "\n",
              "      async function convertToInteractive(key) {\n",
              "        const element = document.querySelector('#df-c5e68aad-652a-48e1-a886-738c2d06afa7');\n",
              "        const dataTable =\n",
              "          await google.colab.kernel.invokeFunction('convertToInteractive',\n",
              "                                                    [key], {});\n",
              "        if (!dataTable) return;\n",
              "\n",
              "        const docLinkHtml = 'Like what you see? Visit the ' +\n",
              "          '<a target=\"_blank\" href=https://colab.research.google.com/notebooks/data_table.ipynb>data table notebook</a>'\n",
              "          + ' to learn more about interactive tables.';\n",
              "        element.innerHTML = '';\n",
              "        dataTable['output_type'] = 'display_data';\n",
              "        await google.colab.output.renderOutput(dataTable, element);\n",
              "        const docLink = document.createElement('div');\n",
              "        docLink.innerHTML = docLinkHtml;\n",
              "        element.appendChild(docLink);\n",
              "      }\n",
              "    </script>\n",
              "  </div>\n",
              "\n",
              "\n",
              "<div id=\"df-2a808705-377e-4ce3-8b95-0be5b306e351\">\n",
              "  <button class=\"colab-df-quickchart\" onclick=\"quickchart('df-2a808705-377e-4ce3-8b95-0be5b306e351')\"\n",
              "            title=\"Suggest charts\"\n",
              "            style=\"display:none;\">\n",
              "\n",
              "<svg xmlns=\"http://www.w3.org/2000/svg\" height=\"24px\"viewBox=\"0 0 24 24\"\n",
              "     width=\"24px\">\n",
              "    <g>\n",
              "        <path d=\"M19 3H5c-1.1 0-2 .9-2 2v14c0 1.1.9 2 2 2h14c1.1 0 2-.9 2-2V5c0-1.1-.9-2-2-2zM9 17H7v-7h2v7zm4 0h-2V7h2v10zm4 0h-2v-4h2v4z\"/>\n",
              "    </g>\n",
              "</svg>\n",
              "  </button>\n",
              "\n",
              "<style>\n",
              "  .colab-df-quickchart {\n",
              "      --bg-color: #E8F0FE;\n",
              "      --fill-color: #1967D2;\n",
              "      --hover-bg-color: #E2EBFA;\n",
              "      --hover-fill-color: #174EA6;\n",
              "      --disabled-fill-color: #AAA;\n",
              "      --disabled-bg-color: #DDD;\n",
              "  }\n",
              "\n",
              "  [theme=dark] .colab-df-quickchart {\n",
              "      --bg-color: #3B4455;\n",
              "      --fill-color: #D2E3FC;\n",
              "      --hover-bg-color: #434B5C;\n",
              "      --hover-fill-color: #FFFFFF;\n",
              "      --disabled-bg-color: #3B4455;\n",
              "      --disabled-fill-color: #666;\n",
              "  }\n",
              "\n",
              "  .colab-df-quickchart {\n",
              "    background-color: var(--bg-color);\n",
              "    border: none;\n",
              "    border-radius: 50%;\n",
              "    cursor: pointer;\n",
              "    display: none;\n",
              "    fill: var(--fill-color);\n",
              "    height: 32px;\n",
              "    padding: 0;\n",
              "    width: 32px;\n",
              "  }\n",
              "\n",
              "  .colab-df-quickchart:hover {\n",
              "    background-color: var(--hover-bg-color);\n",
              "    box-shadow: 0 1px 2px rgba(60, 64, 67, 0.3), 0 1px 3px 1px rgba(60, 64, 67, 0.15);\n",
              "    fill: var(--button-hover-fill-color);\n",
              "  }\n",
              "\n",
              "  .colab-df-quickchart-complete:disabled,\n",
              "  .colab-df-quickchart-complete:disabled:hover {\n",
              "    background-color: var(--disabled-bg-color);\n",
              "    fill: var(--disabled-fill-color);\n",
              "    box-shadow: none;\n",
              "  }\n",
              "\n",
              "  .colab-df-spinner {\n",
              "    border: 2px solid var(--fill-color);\n",
              "    border-color: transparent;\n",
              "    border-bottom-color: var(--fill-color);\n",
              "    animation:\n",
              "      spin 1s steps(1) infinite;\n",
              "  }\n",
              "\n",
              "  @keyframes spin {\n",
              "    0% {\n",
              "      border-color: transparent;\n",
              "      border-bottom-color: var(--fill-color);\n",
              "      border-left-color: var(--fill-color);\n",
              "    }\n",
              "    20% {\n",
              "      border-color: transparent;\n",
              "      border-left-color: var(--fill-color);\n",
              "      border-top-color: var(--fill-color);\n",
              "    }\n",
              "    30% {\n",
              "      border-color: transparent;\n",
              "      border-left-color: var(--fill-color);\n",
              "      border-top-color: var(--fill-color);\n",
              "      border-right-color: var(--fill-color);\n",
              "    }\n",
              "    40% {\n",
              "      border-color: transparent;\n",
              "      border-right-color: var(--fill-color);\n",
              "      border-top-color: var(--fill-color);\n",
              "    }\n",
              "    60% {\n",
              "      border-color: transparent;\n",
              "      border-right-color: var(--fill-color);\n",
              "    }\n",
              "    80% {\n",
              "      border-color: transparent;\n",
              "      border-right-color: var(--fill-color);\n",
              "      border-bottom-color: var(--fill-color);\n",
              "    }\n",
              "    90% {\n",
              "      border-color: transparent;\n",
              "      border-bottom-color: var(--fill-color);\n",
              "    }\n",
              "  }\n",
              "</style>\n",
              "\n",
              "  <script>\n",
              "    async function quickchart(key) {\n",
              "      const quickchartButtonEl =\n",
              "        document.querySelector('#' + key + ' button');\n",
              "      quickchartButtonEl.disabled = true;  // To prevent multiple clicks.\n",
              "      quickchartButtonEl.classList.add('colab-df-spinner');\n",
              "      try {\n",
              "        const charts = await google.colab.kernel.invokeFunction(\n",
              "            'suggestCharts', [key], {});\n",
              "      } catch (error) {\n",
              "        console.error('Error during call to suggestCharts:', error);\n",
              "      }\n",
              "      quickchartButtonEl.classList.remove('colab-df-spinner');\n",
              "      quickchartButtonEl.classList.add('colab-df-quickchart-complete');\n",
              "    }\n",
              "    (() => {\n",
              "      let quickchartButtonEl =\n",
              "        document.querySelector('#df-2a808705-377e-4ce3-8b95-0be5b306e351 button');\n",
              "      quickchartButtonEl.style.display =\n",
              "        google.colab.kernel.accessAllowed ? 'block' : 'none';\n",
              "    })();\n",
              "  </script>\n",
              "</div>\n",
              "    </div>\n",
              "  </div>\n"
            ]
          },
          "metadata": {},
          "execution_count": 5
        }
      ]
    },
    {
      "cell_type": "markdown",
      "source": [
        "**Pregnancies**: Número de embarazos.\n",
        "\n",
        "**Glucose**: Concentración de glucosa en plasma a las 2 horas en una prueba de tolerancia oral a la glucosa.\n",
        "\n",
        "**BloodPressure**: Presión arterial diastólica (mm Hg).\n",
        "\n",
        "**SkinThickness**: Grosor del pliegue cutáneo del tríceps (mm).\n",
        "\n",
        "**Insulin**: Insulina sérica de 2 horas (mu U/ml).\n",
        "\n",
        "**BMI**: Índice de masa corporal (peso en kg/(altura en m)^2).\n",
        "\n",
        "**DiabetesPedigreeFunction**: Una función que representa la predisposición genética a la diabetes.\n",
        "\n",
        "**Age**: Edad (años).\n",
        "\n",
        "**Outcome**: Variable de clase (0 o 1) donde 1 indica la presencia de diabetes y 0 su ausencia."
      ],
      "metadata": {
        "id": "F5CETHZEeokQ"
      }
    },
    {
      "metadata": {
        "_uuid": "25e59b9710940c6b4d86dc6e1487ce41dbf284e3",
        "_cell_guid": "766ae7f8-b08c-4ca7-bc1e-7e0401ac7fce",
        "trusted": true,
        "id": "fSSzohqw-F0Q",
        "colab": {
          "base_uri": "https://localhost:8080/"
        },
        "outputId": "a617ee6c-ea9e-492c-8598-b297e5ac5b11"
      },
      "cell_type": "code",
      "source": [
        "# Qué forma tiene el dataframe\n",
        "df.shape"
      ],
      "execution_count": 6,
      "outputs": [
        {
          "output_type": "execute_result",
          "data": {
            "text/plain": [
              "(768, 9)"
            ]
          },
          "metadata": {},
          "execution_count": 6
        }
      ]
    },
    {
      "metadata": {
        "_uuid": "765f95aef62cf293597ae9fc5c2a6063d1e83222",
        "_cell_guid": "d1623be8-e5c9-4359-9747-bcaa469429ff",
        "id": "JJu0vdD1-F0Q"
      },
      "cell_type": "markdown",
      "source": [
        "Tenemos 768 filas y 9 columnas. Las primeras 8 columnas representan las características (dimensiones) y la última columna representa el target/etiqueta."
      ]
    },
    {
      "cell_type": "code",
      "source": [
        "# Distribución del 'Outcome'\n",
        "# Conteo de las clases en la columna 'Outcome'\n",
        "outcome_counts = df['Outcome'].value_counts()\n",
        "\n",
        "# Crear el gráfico de barras\n",
        "plt.figure(figsize=(8, 6))\n",
        "outcome_counts.plot(kind='bar')\n",
        "plt.title('Distribución de la Variable Objetivo (Outcome)')\n",
        "plt.xlabel('Clase')\n",
        "plt.ylabel('Cantidad')\n",
        "plt.xticks(rotation=0)  # Rotar las etiquetas del eje x para mejor legibilidad\n",
        "plt.show()"
      ],
      "metadata": {
        "colab": {
          "base_uri": "https://localhost:8080/",
          "height": 570
        },
        "id": "Y0mdoc4LbpSO",
        "outputId": "78b2789b-f7ee-4da0-e1c2-85c73fb510e4"
      },
      "execution_count": 7,
      "outputs": [
        {
          "output_type": "display_data",
          "data": {
            "text/plain": [
              "<Figure size 800x600 with 1 Axes>"
            ],
            "image/png": "[encoded data removed]"
          },
          "metadata": {}
        }
      ]
    },
    {
      "cell_type": "markdown",
      "source": [
        "Parece que el conjunto está desbalanceado\n",
        "¿Cómo crees que afectará esto al modelo y a su precisión?\n",
        "¿Qué podemos hacer para remediarlo?\n",
        "\n",
        "Un conjunto de datos desbalanceado **puede sesgar el rendimiento del modelo de aprendizaje automático, ya que podría tender a predecir mejor la clase mayoritaria** simplemente porque hay más ejemplos de los que aprender. En el contexto de un problema médico, esto podría ser **problemático porque podrías acabar con un modelo que no es tan bueno identificando los casos verdaderamente positivos** (pacientes con diabetes).\n",
        "\n",
        "Para abordar este desbalance, podrías considerar técnicas como:\n",
        "\n",
        "**Sobremuestreo de la clase minoritaria**: Añadir más ejemplos de la clase con menos muestras.\n",
        "\n",
        "**Submuestreo de la clase mayoritaria**: Reducir el número de ejemplos de la clase con más muestras.\n",
        "\n",
        "**Generar muestras sintéticas** (por ejemplo, usando el método SMOTE - Synthetic Minority Over-sampling Technique).\n",
        "\n",
        "P**onderación de clases durante el entrenamiento**: Dar más peso a la clase minoritaria para que los errores en esa clase tengan un coste mayor.\n",
        "\n",
        "**Evaluación con métricas que manejan bien el desbalance**: Como la curva ROC-AUC, la precisión-recuerdo (precision-recall) o el F1-score, en lugar de solo la precisión."
      ],
      "metadata": {
        "id": "dlSI-bdpcGBl"
      }
    },
    {
      "cell_type": "markdown",
      "source": [
        "### 1.3.1 Exploración exahustiva de los datos (No hacemos aqui)\n",
        "Análisis Exploratorio de Datos (EDA):\n",
        "\n",
        "* **Estadísticas descriptivas**: Calcula medias, medianas, rangos intercuartílicos, etc., para comprender la distribución de cada característica.\n",
        "\n",
        "  * **Histogramas**: Para cada característica, para visualizar la distribución de los datos.\n",
        "\n",
        "  * **Diagramas de caja** (boxplots): Útiles para detectar valores atípicos (outliers) y la distribución de los datos.\n",
        "\n",
        "* Correlaciones:\n",
        "  * **Matriz de correlación**: Identificar relaciones lineales entre características.\n",
        "  * **Mapas de calor** (heatmaps): Para una visualización más intuitiva de la matriz de correlación.\n",
        "\n",
        "* **Análisis de la variable objetivo** (Outcome):\n",
        "  * **Balance de clases**: Como ya has observado, determinar si necesitas equilibrar el conjunto de datos.\n",
        "  * **Relación con otras características**: Ver cómo otras características varían con respecto a la variable objetivo."
      ],
      "metadata": {
        "id": "glW5efJRhKip"
      }
    },
    {
      "cell_type": "markdown",
      "source": [
        "## 1.4 Separación en entrenamiento / test\n",
        "\n",
        "***Antes de la separación***\n",
        "\n",
        "**Limpieza de Datos:**\n",
        "\n",
        "* **Manejo de valores perdidos**: Determina si hay valores perdidos y decide cómo manejarlos (eliminación, imputación, etc.).\n",
        "* **Filtrado de outliers**: Decide si eliminar o ajustar valores atípicos basados en tu conocimiento del dominio.\n",
        "\n",
        "**Transformación de Datos:**\n",
        "* **Normalización**: Si estás utilizando un algoritmo basado en distancia como kNN, es crucial normalizar los datos para que todas las características contribuyan equitativamente al resultado.\n",
        "* **Codificación de variables categóricas**: Si tienes variables categóricas, puedes necesitar convertirlas a un formato numérico mediante codificación one-hot o codificación de etiquetas.\n"
      ],
      "metadata": {
        "id": "t7M3MHidXLb0"
      }
    },
    {
      "metadata": {
        "_uuid": "5b6e02cc6d372bd5c3b646959fdf3db8c0e0a881",
        "_cell_guid": "a405c050-6a75-4c4a-803f-86db6152d796",
        "collapsed": true,
        "trusted": true,
        "id": "urWQWG2m-F0R"
      },
      "cell_type": "code",
      "source": [
        "# Separamos la  matriz de características en X (caracteristicas) e y (target)\n",
        "X = df.drop('Outcome',axis=1).values\n",
        "y = df['Outcome'].values"
      ],
      "execution_count": 8,
      "outputs": []
    },
    {
      "metadata": {
        "_uuid": "ce8256ba90e53d72f32d075e9beca80a32b4f14c",
        "_cell_guid": "18477358-3b6a-46e2-8b32-67dfc3150e53",
        "id": "lkcW4RVq-F0R"
      },
      "cell_type": "markdown",
      "source": [
        "Vamos a dividir los datos aleatoriamente en un conjunto de entrenamiento y otro de prueba.\n",
        "\n",
        "Ajustaremos/entrenaremos un clasificador en el conjunto de entrenamiento y haremos predicciones en el conjunto de prueba. A continuación, compararemos las predicciones con las etiquetas conocidas.\n",
        "\n",
        "Scikit-learn ofrece la posibilidad de dividir los datos en entrenamiento y prueba utilizando el método train_test_split."
      ]
    },
    {
      "metadata": {
        "_uuid": "892a7dac3f31c5d7ef1506933102ebdec2605ce0",
        "_cell_guid": "c674227c-f930-4ae0-a58a-c3f94c06c7d7",
        "collapsed": true,
        "trusted": true,
        "id": "PTUSletC-F0R"
      },
      "cell_type": "code",
      "source": [
        "# train_test_split\n",
        "from sklearn.model_selection import train_test_split"
      ],
      "execution_count": 9,
      "outputs": []
    },
    {
      "metadata": {
        "_uuid": "a4965dba9f73aa19400a4b767be4ce9bdb0426b2",
        "_cell_guid": "92e7ad71-2384-4f93-93ef-e70476fbbe9f",
        "id": "XkO9MXY4-F0S"
      },
      "cell_type": "markdown",
      "source": [
        "Es una buena práctica realizar la división de forma que refleje las etiquetas de los datos. En otras palabras, queremos que las etiquetas se dividan en los conjuntos de entrenamiento y prueba tal y como están en el conjunto de datos original. Para ello utilizamos el argumento stratify.\n",
        "\n",
        "También creamos un conjunto de prueba de un tamaño aproximado del 40% del conjunto de datos.\n",
        "\n",
        "**stratify=y:** Esto asegura que la proporción de clases en los conjuntos de entrenamiento y prueba sea la misma que la proporción en el conjunto de datos original. Por ejemplo, si el 25% de tus datos son positivos (diabetes) y el 75% son negativos (sin diabetes), estratificar preservará estas proporciones en cada uno de los conjuntos de entrenamiento y prueba."
      ]
    },
    {
      "metadata": {
        "_uuid": "d90e61834caa0b28f7585e4322b49c1c2780d607",
        "_cell_guid": "380309a4-ecaa-43e6-be63-f0e657e5838b",
        "collapsed": true,
        "trusted": true,
        "id": "R0TZrw25-F0S"
      },
      "cell_type": "code",
      "source": [
        "X_train,X_test,y_train,y_test = train_test_split(X,y,test_size=0.4,random_state=42, stratify=y)"
      ],
      "execution_count": 10,
      "outputs": []
    },
    {
      "metadata": {
        "_uuid": "30d4cf1dd61428d69c95ca7dbbd2479c698275a1",
        "_cell_guid": "f47ce31a-cd75-4294-9309-ede79264b977",
        "id": "8KiZn_jv-F0T"
      },
      "cell_type": "markdown",
      "source": [
        "Vamos a crear un clasificador utilizando el algoritmo k-Nearest Neighbors.\n",
        "\n",
        "Primero observemos las precisiones para diferentes valores de k."
      ]
    },
    {
      "cell_type": "markdown",
      "source": [
        "## 1.5 'Entrenamiento' del modelo"
      ],
      "metadata": {
        "id": "Lze5z2ILXbOi"
      }
    },
    {
      "metadata": {
        "_uuid": "745e27e18bf047cd2c71e014aebd324b306de5b5",
        "_cell_guid": "ca8346d5-a9a4-4728-8b24-253de0d9a31c",
        "trusted": true,
        "id": "JUQc3sJE-F0T"
      },
      "cell_type": "code",
      "source": [
        "# importamos el clasificador KNeighborsClassifier (ya se veía en los ejemplos básicos)\n",
        "from sklearn.neighbors import KNeighborsClassifier\n",
        "\n",
        "# Configuramos los arrays para almacenar las precisiones de entrenamiento y prueba\n",
        "neighbors = np.arange(1,9)\n",
        "train_accuracy = np.empty(len(neighbors))\n",
        "test_accuracy = np.empty(len(neighbors))\n",
        "\n",
        "for i,k in enumerate(neighbors):\n",
        "    # Iniciar el clasificador knn con k vecinos (se testea de 1 a 8)\n",
        "    knn = KNeighborsClassifier(n_neighbors=k)\n",
        "\n",
        "    # Se 'entrena' el modelo\n",
        "    knn.fit(X_train, y_train)\n",
        "\n",
        "    # Obtenemos la precisión en el conjunto de entranamiento\n",
        "    train_accuracy[i] = knn.score(X_train, y_train)\n",
        "\n",
        "    # Obtenemos la precisión en el conjunto de test\n",
        "    test_accuracy[i] = knn.score(X_test, y_test)"
      ],
      "execution_count": 12,
      "outputs": []
    },
    {
      "cell_type": "markdown",
      "source": [
        "La idea aqui es ver si el modelo está generalizando bien, si existe un sobreajuste o un subajuste, para eso vemos la siguiente grafica."
      ],
      "metadata": {
        "id": "yVCA0rZTneiu"
      }
    },
    {
      "cell_type": "markdown",
      "source": [
        "## 1.6 Evaluación del modelo"
      ],
      "metadata": {
        "id": "SZvefl6MXp3R"
      }
    },
    {
      "metadata": {
        "_uuid": "6e40ab5bc997d0f450215f65344bb79b4cf3896d",
        "_cell_guid": "354c71d7-25f6-4862-9e5a-c390341c858b",
        "trusted": true,
        "id": "xTLYsiBN-F0T",
        "colab": {
          "base_uri": "https://localhost:8080/",
          "height": 477
        },
        "outputId": "a1a410ea-eaac-4bfe-abee-3745c3efd329"
      },
      "cell_type": "code",
      "source": [
        "# Generar el gráfico\n",
        "plt.title('k-NN Variando el número de vecinos')\n",
        "plt.plot(neighbors, test_accuracy, label='Precisión de test')\n",
        "plt.plot(neighbors, train_accuracy, label='Precisión de Entrenamiento')\n",
        "plt.legend()\n",
        "plt.xlabel('Número de vecinos')\n",
        "plt.ylabel('Precisión')\n",
        "plt.show()\n"
      ],
      "execution_count": 14,
      "outputs": [
        {
          "output_type": "display_data",
          "data": {
            "text/plain": [
              "<Figure size 640x480 with 1 Axes>"
            ],
            "image/png": "[encoded data removed]"
          },
          "metadata": {}
        }
      ]
    },
    {
      "metadata": {
        "_uuid": "f76fa52e8fab081315cf6a9aef45b6181e1593f5",
        "_cell_guid": "b9ef2f66-9994-4a36-bbf3-1a4e5aadfc41",
        "id": "CIlLbyyP-F0T"
      },
      "cell_type": "markdown",
      "source": [
        "Aunque no tenemos un pico claro en donde se igualen entrenamiento y test, podemos observar que obtenemos la máxima precisión de test para k=7. Así que vamos a crear un KNeighborsClassifier con el número de vecinos como 7."
      ]
    },
    {
      "metadata": {
        "_uuid": "fd50a5bbfacbb723e2a27ed8cc2dd7de808875b6",
        "_cell_guid": "d8cd01d6-f27a-43af-9ccf-4acb9ac351d7",
        "collapsed": true,
        "trusted": true,
        "id": "XC9fuTN0-F0U"
      },
      "cell_type": "code",
      "source": [
        "# Generamos el clasificador con k = 7\n",
        "knn = KNeighborsClassifier(n_neighbors=7)"
      ],
      "execution_count": null,
      "outputs": []
    },
    {
      "metadata": {
        "_uuid": "927ab01dc02b5ccf1cc3a008b7d103d5f195daa5",
        "_cell_guid": "d9f66590-30d7-41c3-96f1-0d8abf6b759c",
        "trusted": true,
        "id": "DTq09fRN-F0U",
        "colab": {
          "base_uri": "https://localhost:8080/",
          "height": 52
        },
        "outputId": "d79c64ca-b081-4734-cb7d-63177aab11ae"
      },
      "cell_type": "code",
      "source": [
        "# Entrenamos el modelo\n",
        "knn.fit(X_train,y_train)"
      ],
      "execution_count": null,
      "outputs": [
        {
          "output_type": "execute_result",
          "data": {
            "text/plain": [
              "KNeighborsClassifier(n_neighbors=7)"
            ],
            "text/html": [
              "<style>#sk-container-id-3 {color: black;background-color: white;}#sk-container-id-3 pre{padding: 0;}#sk-container-id-3 div.sk-toggleable {background-color: white;}#sk-container-id-3 label.sk-toggleable__label {cursor: pointer;display: block;width: 100%;margin-bottom: 0;padding: 0.3em;box-sizing: border-box;text-align: center;}#sk-container-id-3 label.sk-toggleable__label-arrow:before {content: \"▸\";float: left;margin-right: 0.25em;color: #696969;}#sk-container-id-3 label.sk-toggleable__label-arrow:hover:before {color: black;}#sk-container-id-3 div.sk-estimator:hover label.sk-toggleable__label-arrow:before {color: black;}#sk-container-id-3 div.sk-toggleable__content {max-height: 0;max-width: 0;overflow: hidden;text-align: left;background-color: #f0f8ff;}#sk-container-id-3 div.sk-toggleable__content pre {margin: 0.2em;color: black;border-radius: 0.25em;background-color: #f0f8ff;}#sk-container-id-3 input.sk-toggleable__control:checked~div.sk-toggleable__content {max-height: 200px;max-width: 100%;overflow: auto;}#sk-container-id-3 input.sk-toggleable__control:checked~label.sk-toggleable__label-arrow:before {content: \"▾\";}#sk-container-id-3 div.sk-estimator input.sk-toggleable__control:checked~label.sk-toggleable__label {background-color: #d4ebff;}#sk-container-id-3 div.sk-label input.sk-toggleable__control:checked~label.sk-toggleable__label {background-color: #d4ebff;}#sk-container-id-3 input.sk-hidden--visually {border: 0;clip: rect(1px 1px 1px 1px);clip: rect(1px, 1px, 1px, 1px);height: 1px;margin: -1px;overflow: hidden;padding: 0;position: absolute;width: 1px;}#sk-container-id-3 div.sk-estimator {font-family: monospace;background-color: #f0f8ff;border: 1px dotted black;border-radius: 0.25em;box-sizing: border-box;margin-bottom: 0.5em;}#sk-container-id-3 div.sk-estimator:hover {background-color: #d4ebff;}#sk-container-id-3 div.sk-parallel-item::after {content: \"\";width: 100%;border-bottom: 1px solid gray;flex-grow: 1;}#sk-container-id-3 div.sk-label:hover label.sk-toggleable__label {background-color: #d4ebff;}#sk-container-id-3 div.sk-serial::before {content: \"\";position: absolute;border-left: 1px solid gray;box-sizing: border-box;top: 0;bottom: 0;left: 50%;z-index: 0;}#sk-container-id-3 div.sk-serial {display: flex;flex-direction: column;align-items: center;background-color: white;padding-right: 0.2em;padding-left: 0.2em;position: relative;}#sk-container-id-3 div.sk-item {position: relative;z-index: 1;}#sk-container-id-3 div.sk-parallel {display: flex;align-items: stretch;justify-content: center;background-color: white;position: relative;}#sk-container-id-3 div.sk-item::before, #sk-container-id-3 div.sk-parallel-item::before {content: \"\";position: absolute;border-left: 1px solid gray;box-sizing: border-box;top: 0;bottom: 0;left: 50%;z-index: -1;}#sk-container-id-3 div.sk-parallel-item {display: flex;flex-direction: column;z-index: 1;position: relative;background-color: white;}#sk-container-id-3 div.sk-parallel-item:first-child::after {align-self: flex-end;width: 50%;}#sk-container-id-3 div.sk-parallel-item:last-child::after {align-self: flex-start;width: 50%;}#sk-container-id-3 div.sk-parallel-item:only-child::after {width: 0;}#sk-container-id-3 div.sk-dashed-wrapped {border: 1px dashed gray;margin: 0 0.4em 0.5em 0.4em;box-sizing: border-box;padding-bottom: 0.4em;background-color: white;}#sk-container-id-3 div.sk-label label {font-family: monospace;font-weight: bold;display: inline-block;line-height: 1.2em;}#sk-container-id-3 div.sk-label-container {text-align: center;}#sk-container-id-3 div.sk-container {/* jupyter's `normalize.less` sets `[hidden] { display: none; }` but bootstrap.min.css set `[hidden] { display: none !important; }` so we also need the `!important` here to be able to override the default hidden behavior on the sphinx rendered scikit-learn.org. See: https://github.com/scikit-learn/scikit-learn/issues/21755 */display: inline-block !important;position: relative;}#sk-container-id-3 div.sk-text-repr-fallback {display: none;}</style><div id=\"sk-container-id-3\" class=\"sk-top-container\"><div class=\"sk-text-repr-fallback\"><pre>KNeighborsClassifier(n_neighbors=7)</pre><b>In a Jupyter environment, please rerun this cell to show the HTML representation or trust the notebook. <br />On GitHub, the HTML representation is unable to render, please try loading this page with nbviewer.org.</b></div><div class=\"sk-container\" hidden><div class=\"sk-item\"><div class=\"sk-estimator sk-toggleable\"><input class=\"sk-toggleable__control sk-hidden--visually\" id=\"sk-estimator-id-5\" type=\"checkbox\" checked><label for=\"sk-estimator-id-5\" class=\"sk-toggleable__label sk-toggleable__label-arrow\">KNeighborsClassifier</label><div class=\"sk-toggleable__content\"><pre>KNeighborsClassifier(n_neighbors=7)</pre></div></div></div></div></div>"
            ]
          },
          "metadata": {},
          "execution_count": 36
        }
      ]
    },
    {
      "cell_type": "markdown",
      "source": [
        "### 1.6.1 Obtención del score"
      ],
      "metadata": {
        "id": "gYD-44sjYCdr"
      }
    },
    {
      "metadata": {
        "_uuid": "b4b0ae189ab063a00d5dfdef2847101a206ffa7c",
        "_cell_guid": "3b16c03f-8619-4842-843c-5134b4cc49cb",
        "trusted": true,
        "id": "JpDmZrKP-F0U",
        "colab": {
          "base_uri": "https://localhost:8080/"
        },
        "outputId": "5a74d4ce-57ea-4573-dcd8-c8fbae3d0bfd"
      },
      "cell_type": "code",
      "source": [
        "# Nota: En el caso de algoritmos de clasificación, el score representa el accuracy.\n",
        "knn.score(X_test,y_test)"
      ],
      "execution_count": null,
      "outputs": [
        {
          "output_type": "execute_result",
          "data": {
            "text/plain": [
              "0.7305194805194806"
            ]
          },
          "metadata": {},
          "execution_count": 37
        }
      ]
    },
    {
      "cell_type": "markdown",
      "source": [
        "**Balance de clases**: Dado que el conjunto de datos estaba desbalanceado, una precisión de 73.05% podría ser engañosa. Es importante mirar otras métricas como la sensibilidad (recall), la especificidad, el valor predictivo positivo (precision), el F1-score y la curva ROC-AUC para comprender mejor cómo está funcionando el modelo para cada clase.\n",
        "\n",
        "Recuerda que la precisión no es el único indicador de rendimiento, especialmente en problemas de salud donde las consecuencias de los falsos negativos pueden ser graves. Que se catalogue como 1 y luego sea 0, no es muy grave, pero que se catalogue como negativo y luego sea positivo, es muy grave. No solo en medicina, si no en banca tambien se puede ver."
      ],
      "metadata": {
        "id": "RW3RK2mVp5V-"
      }
    },
    {
      "metadata": {
        "_uuid": "380c3b4a0a147f6d89cccfc20d313cfaec6e4c8e",
        "_cell_guid": "daf29d5a-b7c1-4a8b-8492-72ddce1ca359",
        "id": "btOtgye--F0U"
      },
      "cell_type": "markdown",
      "source": [
        "### 1.6.2 **Matriz de confusión**\n",
        "\n",
        "Una matriz de confusión es una tabla que se utiliza a menudo para describir el rendimiento de un modelo de clasificación (o \"clasificador\") en un conjunto de datos de prueba para los que se conocen los valores verdaderos. Scikit-learn ofrece la posibilidad de calcular la matriz de confusión utilizando el método confusion_matrix."
      ]
    },
    {
      "metadata": {
        "_uuid": "cdc17629041fc70eb5fd00685259d3aca24b8200",
        "_cell_guid": "02c947c0-852b-4f19-8555-2e7116c47e85",
        "collapsed": true,
        "trusted": true,
        "id": "IQjOmQoi-F0U"
      },
      "cell_type": "code",
      "source": [
        "# importamos confusion_matrix\n",
        "from sklearn.metrics import confusion_matrix"
      ],
      "execution_count": 15,
      "outputs": []
    },
    {
      "metadata": {
        "trusted": true,
        "collapsed": true,
        "_uuid": "82e97b52f13616c7fefdb86902d7f2e1a3b52080",
        "id": "xL2vMTk7-F0V"
      },
      "cell_type": "code",
      "source": [
        "# obtengamos las predicciones utilizando el clasificador que habíamos ajustado anteriormente sobre el conjunto de test\n",
        "y_pred = knn.predict(X_test)"
      ],
      "execution_count": 16,
      "outputs": []
    },
    {
      "metadata": {
        "_uuid": "ab884d77ed4789dcf33f0fe7d69c8705fc2273be",
        "_cell_guid": "215866ca-a484-4039-beb4-f18cdb3cf7f7",
        "trusted": true,
        "id": "Jb7Sp7ZV-F0V",
        "colab": {
          "base_uri": "https://localhost:8080/"
        },
        "outputId": "1f7ed4c0-3b77-4b76-ddeb-bb28cf7d0a8c"
      },
      "cell_type": "code",
      "source": [
        "confusion_matrix(y_test,y_pred)"
      ],
      "execution_count": 17,
      "outputs": [
        {
          "output_type": "execute_result",
          "data": {
            "text/plain": [
              "array([[168,  33],\n",
              "       [ 59,  48]])"
            ]
          },
          "metadata": {},
          "execution_count": 17
        }
      ]
    },
    {
      "metadata": {
        "_uuid": "d9c67799afd1f26f7a80bd0d8038ad85a76dd66f",
        "_cell_guid": "4c1eba0d-4bac-4e6f-8820-e81d0564b9e9",
        "id": "7Oi7ULN7-F0V"
      },
      "cell_type": "markdown",
      "source": [
        "**Verdaderos negativos (TN)**: 165 pacientes fueron correctamente identificados como no diabéticos.\n",
        "\n",
        "**Falsos positivos (FP)**: 36 pacientes fueron incorrectamente identificados como diabéticos (cuando en realidad no lo son).\n",
        "\n",
        "**Falsos negativos (FN)**: 47 pacientes fueron incorrectamente identificados como no diabéticos (cuando en realidad sí lo son).\n",
        "\n",
        "**Verdaderos positivos (TP)**: 60 pacientes fueron correctamente identificados como diabéticos.\n",
        "\n",
        "Los **falsos negativos son particularmente graves** porque los pacientes diabéticos no serían tratados."
      ]
    },
    {
      "metadata": {
        "_uuid": "27bba67de6e6bd96cbe4a1420a8f864e5741d595",
        "_cell_guid": "c9c26aea-37b5-42a2-b010-1e11f95c1fd9",
        "trusted": true,
        "id": "F757QqPH-F0V",
        "colab": {
          "base_uri": "https://localhost:8080/",
          "height": 175
        },
        "outputId": "e8e5316a-7c65-4f4c-d316-22610669e336",
        "cellView": "form"
      },
      "cell_type": "code",
      "source": [
        "# @title Extra: crosstab\n",
        "# La matriz de confusión también puede obtenerse utilizando el método crosstab de pandas.\n",
        "pd.crosstab(y_test, y_pred, rownames=['True'], colnames=['Predicted'], margins=True)"
      ],
      "execution_count": 18,
      "outputs": [
        {
          "output_type": "execute_result",
          "data": {
            "text/plain": [
              "Predicted    0   1  All\n",
              "True                   \n",
              "0          168  33  201\n",
              "1           59  48  107\n",
              "All        227  81  308"
            ],
            "text/html": [
              "\n",
              "  <div id=\"df-54b056eb-208c-45ef-aa37-902d4cee410a\" class=\"colab-df-container\">\n",
              "    <div>\n",
              "<style scoped>\n",
              "    .dataframe tbody tr th:only-of-type {\n",
              "        vertical-align: middle;\n",
              "    }\n",
              "\n",
              "    .dataframe tbody tr th {\n",
              "        vertical-align: top;\n",
              "    }\n",
              "\n",
              "    .dataframe thead th {\n",
              "        text-align: right;\n",
              "    }\n",
              "</style>\n",
              "<table border=\"1\" class=\"dataframe\">\n",
              "  <thead>\n",
              "    <tr style=\"text-align: right;\">\n",
              "      <th>Predicted</th>\n",
              "      <th>0</th>\n",
              "      <th>1</th>\n",
              "      <th>All</th>\n",
              "    </tr>\n",
              "    <tr>\n",
              "      <th>True</th>\n",
              "      <th></th>\n",
              "      <th></th>\n",
              "      <th></th>\n",
              "    </tr>\n",
              "  </thead>\n",
              "  <tbody>\n",
              "    <tr>\n",
              "      <th>0</th>\n",
              "      <td>168</td>\n",
              "      <td>33</td>\n",
              "      <td>201</td>\n",
              "    </tr>\n",
              "    <tr>\n",
              "      <th>1</th>\n",
              "      <td>59</td>\n",
              "      <td>48</td>\n",
              "      <td>107</td>\n",
              "    </tr>\n",
              "    <tr>\n",
              "      <th>All</th>\n",
              "      <td>227</td>\n",
              "      <td>81</td>\n",
              "      <td>308</td>\n",
              "    </tr>\n",
              "  </tbody>\n",
              "</table>\n",
              "</div>\n",
              "    <div class=\"colab-df-buttons\">\n",
              "\n",
              "  <div class=\"colab-df-container\">\n",
              "    <button class=\"colab-df-convert\" onclick=\"convertToInteractive('df-54b056eb-208c-45ef-aa37-902d4cee410a')\"\n",
              "            title=\"Convert this dataframe to an interactive table.\"\n",
              "            style=\"display:none;\">\n",
              "\n",
              "  <svg xmlns=\"http://www.w3.org/2000/svg\" height=\"24px\" viewBox=\"0 -960 960 960\">\n",
              "    <path d=\"M120-120v-720h720v720H120Zm60-500h600v-160H180v160Zm220 220h160v-160H400v160Zm0 220h160v-160H400v160ZM180-400h160v-160H180v160Zm440 0h160v-160H620v160ZM180-180h160v-160H180v160Zm440 0h160v-160H620v160Z\"/>\n",
              "  </svg>\n",
              "    </button>\n",
              "\n",
              "  <style>\n",
              "    .colab-df-container {\n",
              "      display:flex;\n",
              "      gap: 12px;\n",
              "    }\n",
              "\n",
              "    .colab-df-convert {\n",
              "      background-color: #E8F0FE;\n",
              "      border: none;\n",
              "      border-radius: 50%;\n",
              "      cursor: pointer;\n",
              "      display: none;\n",
              "      fill: #1967D2;\n",
              "      height: 32px;\n",
              "      padding: 0 0 0 0;\n",
              "      width: 32px;\n",
              "    }\n",
              "\n",
              "    .colab-df-convert:hover {\n",
              "      background-color: #E2EBFA;\n",
              "      box-shadow: 0px 1px 2px rgba(60, 64, 67, 0.3), 0px 1px 3px 1px rgba(60, 64, 67, 0.15);\n",
              "      fill: #174EA6;\n",
              "    }\n",
              "\n",
              "    .colab-df-buttons div {\n",
              "      margin-bottom: 4px;\n",
              "    }\n",
              "\n",
              "    [theme=dark] .colab-df-convert {\n",
              "      background-color: #3B4455;\n",
              "      fill: #D2E3FC;\n",
              "    }\n",
              "\n",
              "    [theme=dark] .colab-df-convert:hover {\n",
              "      background-color: #434B5C;\n",
              "      box-shadow: 0px 1px 3px 1px rgba(0, 0, 0, 0.15);\n",
              "      filter: drop-shadow(0px 1px 2px rgba(0, 0, 0, 0.3));\n",
              "      fill: #FFFFFF;\n",
              "    }\n",
              "  </style>\n",
              "\n",
              "    <script>\n",
              "      const buttonEl =\n",
              "        document.querySelector('#df-54b056eb-208c-45ef-aa37-902d4cee410a button.colab-df-convert');\n",
              "      buttonEl.style.display =\n",
              "        google.colab.kernel.accessAllowed ? 'block' : 'none';\n",
              "\n",
              "      async function convertToInteractive(key) {\n",
              "        const element = document.querySelector('#df-54b056eb-208c-45ef-aa37-902d4cee410a');\n",
              "        const dataTable =\n",
              "          await google.colab.kernel.invokeFunction('convertToInteractive',\n",
              "                                                    [key], {});\n",
              "        if (!dataTable) return;\n",
              "\n",
              "        const docLinkHtml = 'Like what you see? Visit the ' +\n",
              "          '<a target=\"_blank\" href=https://colab.research.google.com/notebooks/data_table.ipynb>data table notebook</a>'\n",
              "          + ' to learn more about interactive tables.';\n",
              "        element.innerHTML = '';\n",
              "        dataTable['output_type'] = 'display_data';\n",
              "        await google.colab.output.renderOutput(dataTable, element);\n",
              "        const docLink = document.createElement('div');\n",
              "        docLink.innerHTML = docLinkHtml;\n",
              "        element.appendChild(docLink);\n",
              "      }\n",
              "    </script>\n",
              "  </div>\n",
              "\n",
              "\n",
              "<div id=\"df-ea84d95a-fe66-4fc4-af24-1e98b83092ee\">\n",
              "  <button class=\"colab-df-quickchart\" onclick=\"quickchart('df-ea84d95a-fe66-4fc4-af24-1e98b83092ee')\"\n",
              "            title=\"Suggest charts\"\n",
              "            style=\"display:none;\">\n",
              "\n",
              "<svg xmlns=\"http://www.w3.org/2000/svg\" height=\"24px\"viewBox=\"0 0 24 24\"\n",
              "     width=\"24px\">\n",
              "    <g>\n",
              "        <path d=\"M19 3H5c-1.1 0-2 .9-2 2v14c0 1.1.9 2 2 2h14c1.1 0 2-.9 2-2V5c0-1.1-.9-2-2-2zM9 17H7v-7h2v7zm4 0h-2V7h2v10zm4 0h-2v-4h2v4z\"/>\n",
              "    </g>\n",
              "</svg>\n",
              "  </button>\n",
              "\n",
              "<style>\n",
              "  .colab-df-quickchart {\n",
              "      --bg-color: #E8F0FE;\n",
              "      --fill-color: #1967D2;\n",
              "      --hover-bg-color: #E2EBFA;\n",
              "      --hover-fill-color: #174EA6;\n",
              "      --disabled-fill-color: #AAA;\n",
              "      --disabled-bg-color: #DDD;\n",
              "  }\n",
              "\n",
              "  [theme=dark] .colab-df-quickchart {\n",
              "      --bg-color: #3B4455;\n",
              "      --fill-color: #D2E3FC;\n",
              "      --hover-bg-color: #434B5C;\n",
              "      --hover-fill-color: #FFFFFF;\n",
              "      --disabled-bg-color: #3B4455;\n",
              "      --disabled-fill-color: #666;\n",
              "  }\n",
              "\n",
              "  .colab-df-quickchart {\n",
              "    background-color: var(--bg-color);\n",
              "    border: none;\n",
              "    border-radius: 50%;\n",
              "    cursor: pointer;\n",
              "    display: none;\n",
              "    fill: var(--fill-color);\n",
              "    height: 32px;\n",
              "    padding: 0;\n",
              "    width: 32px;\n",
              "  }\n",
              "\n",
              "  .colab-df-quickchart:hover {\n",
              "    background-color: var(--hover-bg-color);\n",
              "    box-shadow: 0 1px 2px rgba(60, 64, 67, 0.3), 0 1px 3px 1px rgba(60, 64, 67, 0.15);\n",
              "    fill: var(--button-hover-fill-color);\n",
              "  }\n",
              "\n",
              "  .colab-df-quickchart-complete:disabled,\n",
              "  .colab-df-quickchart-complete:disabled:hover {\n",
              "    background-color: var(--disabled-bg-color);\n",
              "    fill: var(--disabled-fill-color);\n",
              "    box-shadow: none;\n",
              "  }\n",
              "\n",
              "  .colab-df-spinner {\n",
              "    border: 2px solid var(--fill-color);\n",
              "    border-color: transparent;\n",
              "    border-bottom-color: var(--fill-color);\n",
              "    animation:\n",
              "      spin 1s steps(1) infinite;\n",
              "  }\n",
              "\n",
              "  @keyframes spin {\n",
              "    0% {\n",
              "      border-color: transparent;\n",
              "      border-bottom-color: var(--fill-color);\n",
              "      border-left-color: var(--fill-color);\n",
              "    }\n",
              "    20% {\n",
              "      border-color: transparent;\n",
              "      border-left-color: var(--fill-color);\n",
              "      border-top-color: var(--fill-color);\n",
              "    }\n",
              "    30% {\n",
              "      border-color: transparent;\n",
              "      border-left-color: var(--fill-color);\n",
              "      border-top-color: var(--fill-color);\n",
              "      border-right-color: var(--fill-color);\n",
              "    }\n",
              "    40% {\n",
              "      border-color: transparent;\n",
              "      border-right-color: var(--fill-color);\n",
              "      border-top-color: var(--fill-color);\n",
              "    }\n",
              "    60% {\n",
              "      border-color: transparent;\n",
              "      border-right-color: var(--fill-color);\n",
              "    }\n",
              "    80% {\n",
              "      border-color: transparent;\n",
              "      border-right-color: var(--fill-color);\n",
              "      border-bottom-color: var(--fill-color);\n",
              "    }\n",
              "    90% {\n",
              "      border-color: transparent;\n",
              "      border-bottom-color: var(--fill-color);\n",
              "    }\n",
              "  }\n",
              "</style>\n",
              "\n",
              "  <script>\n",
              "    async function quickchart(key) {\n",
              "      const quickchartButtonEl =\n",
              "        document.querySelector('#' + key + ' button');\n",
              "      quickchartButtonEl.disabled = true;  // To prevent multiple clicks.\n",
              "      quickchartButtonEl.classList.add('colab-df-spinner');\n",
              "      try {\n",
              "        const charts = await google.colab.kernel.invokeFunction(\n",
              "            'suggestCharts', [key], {});\n",
              "      } catch (error) {\n",
              "        console.error('Error during call to suggestCharts:', error);\n",
              "      }\n",
              "      quickchartButtonEl.classList.remove('colab-df-spinner');\n",
              "      quickchartButtonEl.classList.add('colab-df-quickchart-complete');\n",
              "    }\n",
              "    (() => {\n",
              "      let quickchartButtonEl =\n",
              "        document.querySelector('#df-ea84d95a-fe66-4fc4-af24-1e98b83092ee button');\n",
              "      quickchartButtonEl.style.display =\n",
              "        google.colab.kernel.accessAllowed ? 'block' : 'none';\n",
              "    })();\n",
              "  </script>\n",
              "</div>\n",
              "    </div>\n",
              "  </div>\n"
            ]
          },
          "metadata": {},
          "execution_count": 18
        }
      ]
    },
    {
      "metadata": {
        "_uuid": "ded13047fdabdd96d9e765b69a88638d80226c10",
        "id": "J5IX7x0E-F0V"
      },
      "cell_type": "markdown",
      "source": [
        "### 1.6.3 **Informe de clasificación**\n",
        "\n",
        "Otro informe importante es el de clasificación. Se trata de un resumen de texto de la precisión, el recall y la puntuación F1 para cada clase. Scikit-learn ofrece la posibilidad de calcular el informe de clasificación utilizando el método classification_report."
      ]
    },
    {
      "metadata": {
        "_uuid": "fe1119d6f66d5d8777e19ffd6b6237af30f07786",
        "_cell_guid": "d9458cd7-b6fb-4268-a32a-8c87aa884c6c",
        "collapsed": true,
        "trusted": true,
        "id": "LK_SlPop-F0V"
      },
      "cell_type": "code",
      "source": [
        "#import classification_report\n",
        "from sklearn.metrics import classification_report"
      ],
      "execution_count": 20,
      "outputs": []
    },
    {
      "metadata": {
        "trusted": true,
        "_uuid": "154b90c999ba402d96bffaf0264ad467a05c10ae",
        "id": "CZ4o6g2R-F0V",
        "colab": {
          "base_uri": "https://localhost:8080/"
        },
        "outputId": "617fea18-c4c2-4b02-fcb7-03b4ca228dd0"
      },
      "cell_type": "code",
      "source": [
        "print(classification_report(y_test,y_pred))"
      ],
      "execution_count": 21,
      "outputs": [
        {
          "output_type": "stream",
          "name": "stdout",
          "text": [
            "              precision    recall  f1-score   support\n",
            "\n",
            "           0       0.74      0.84      0.79       201\n",
            "           1       0.59      0.45      0.51       107\n",
            "\n",
            "    accuracy                           0.70       308\n",
            "   macro avg       0.67      0.64      0.65       308\n",
            "weighted avg       0.69      0.70      0.69       308\n",
            "\n"
          ]
        }
      ]
    },
    {
      "cell_type": "markdown",
      "source": [
        "Precisión (Precision): **Indica la proporción de identificaciones positivas que fueron realmente correctas**. Para la clase 0 (no diabéticos), la precisión es de 0.78, lo que significa que el 78% de las veces que el modelo predijo que un paciente no tenía diabetes, estaba en lo correcto. Para la clase 1 (diabéticos), la precisión es de 0.62, así que el modelo fue correcto en su predicción de diabetes el 62% de las veces.\n",
        "\n",
        "Recall (Sensibilidad): Muestra qué proporción de **casos positivos reales fueron identificados correctamente**. Para la clase 0, el recall es de 0.82, lo que significa que el modelo identificó correctamente el 82% de todos los casos reales no diabéticos. Para la clase 1, el recall es de 0.56, por lo que el modelo identificó correctamente el 56% de todos los casos reales de diabéticos.\n",
        "\n",
        "F1-score: **Es una medida que combina la precisión y el recall en una sola métrica que toma en cuenta tanto la precisión como la sensibilidad**. **Un F1 alto indica un buen equilibrio entre precisión y sensibilidad**. Para la clase 0, el F1-score es 0.80 y para la clase 1 es 0.59, lo que sugiere que el modelo tiene un rendimiento generalmente mejor para la clase 0 que para la clase 1.\n",
        "\n",
        "**La métrica de recall para la clase 1 es particularmente baja, lo que significa que el modelo está fallando en identificar una cantidad significativa de casos positivos, un aspecto importante a considerar dadas las implicaciones de salud en la detección de la diabetes.**\n",
        "\n",
        "El informe también proporciona promedios para todas las clases:\n",
        "\n",
        "Accuracy: La precisión global del modelo es del 73%, lo que significa que el 73% de todas las predicciones fueron correctas.\n",
        "\n",
        "Macro Avg: Este promedio no toma en cuenta el desequilibrio de clases (es decir, cada clase contribuye por igual al promedio). Aquí, la precisión es de 0.70, el recall es de 0.69, y el F1-score es de 0.70.\n",
        "\n",
        "Weighted Avg: Este promedio pondera cada clase por su número de muestras (support). Refleja la influencia de cada clase en el promedio basado en su representación en el conjunto de datos. Los valores son precisión de 0.73, recall de 0.73, y F1-score de 0.73."
      ],
      "metadata": {
        "id": "ko9s9AmNuJXU"
      }
    },
    {
      "metadata": {
        "_uuid": "d01de7974804a39a757cff77debb7d6ce369977d",
        "id": "9wq1bzHs-F0W"
      },
      "cell_type": "markdown",
      "source": [
        "### 1.6.4 Curva ROC (Reciever Operating Charecteristic)\n",
        "\n",
        "Es un gráfico de la tasa de verdaderos positivos frente a la tasa de falsos positivos para los distintos puntos de corte posibles de una prueba diagnóstica.\n",
        "\n",
        "Una curva ROC demuestra varias cosas:\n",
        "\n",
        "1) Muestra el compromiso entre sensibilidad y especificidad (cualquier aumento de la sensibilidad irá acompañado de una disminución de la especificidad).\n",
        "\n",
        "2) Cuanto más se acerque la curva al borde izquierdo y luego al borde superior del espacio ROC, más precisa será la prueba.\n",
        "\n",
        "3) Cuanto más se acerque la curva a la diagonal de 45 grados del espacio ROC, menos precisa será la prueba.\n",
        "\n",
        "4) El área bajo la curva es una medida de la precisión de la prueba."
      ]
    },
    {
      "metadata": {
        "trusted": true,
        "collapsed": true,
        "_uuid": "09246b4a0fd2661fe961fee3e9d81535c0f8cde4",
        "id": "VEyY2bSu-F0W"
      },
      "cell_type": "code",
      "source": [
        "y_pred_proba = knn.predict_proba(X_test)[:,1]"
      ],
      "execution_count": 22,
      "outputs": []
    },
    {
      "metadata": {
        "trusted": true,
        "collapsed": true,
        "_uuid": "57054382021f13117bff46195a14935f5a35c758",
        "id": "Roe8bYHy-F0W"
      },
      "cell_type": "code",
      "source": [
        "from sklearn.metrics import roc_curve"
      ],
      "execution_count": 23,
      "outputs": []
    },
    {
      "metadata": {
        "trusted": true,
        "collapsed": true,
        "_uuid": "9b060d55660a7efd5d88dd3f6e9a67dbfcd1d75d",
        "id": "SeAQT2-a-F0W"
      },
      "cell_type": "code",
      "source": [
        "fpr, tpr, thresholds = roc_curve(y_test, y_pred_proba)"
      ],
      "execution_count": 24,
      "outputs": []
    },
    {
      "metadata": {
        "trusted": true,
        "_uuid": "c799435270fca23e7a448be35c2dab20381a3796",
        "id": "pYI-8WNx-F0W",
        "colab": {
          "base_uri": "https://localhost:8080/",
          "height": 477
        },
        "outputId": "5d457a9c-61bf-4091-c060-c9a29ab4aa39"
      },
      "cell_type": "code",
      "source": [
        "plt.plot([0,1],[0,1],'k--')\n",
        "plt.plot(fpr,tpr, label='Knn')\n",
        "plt.xlabel('fpr')\n",
        "plt.ylabel('tpr (recall)')\n",
        "plt.title('Knn(n_neighbors=7) Curva ROC')\n",
        "plt.show()"
      ],
      "execution_count": 25,
      "outputs": [
        {
          "output_type": "display_data",
          "data": {
            "text/plain": [
              "<Figure size 640x480 with 1 Axes>"
            ],
            "image/png": "[encoded data removed]"
          },
          "metadata": {}
        }
      ]
    },
    {
      "cell_type": "markdown",
      "source": [
        "En la gráfica:\n",
        "\n",
        "* La línea punteada representa la curva ROC de un clasificador completamente aleatorio. Un buen modelo se esfuerza por alejarse de esta línea hacia la esquina superior izquierda del gráfico.\n",
        "\n",
        "* La curva ROC del modelo kNN (con k=7) muestra el rendimiento del modelo a varios umbrales de clasificación. Cuanto más se curve hacia la esquina superior izquierda (TPR=1, FPR=0), mejor será el modelo.\n",
        "\n",
        "Análisis de la curva ROC:\n",
        "\n",
        "* La curva parece estar por encima de la línea de no-discriminación (línea punteada), lo cual es bueno. Esto indica que el modelo tiene una capacidad de discriminación mejor que la aleatoria.\n",
        "* La distancia vertical desde la línea punteada hasta la curva ROC es indicativa de la capacidad del modelo para lograr una tasa de verdaderos positivos más alta antes de aumentar la tasa de falsos positivos.\n",
        "* Idealmente, querrías que la curva se acercara más a la esquina superior izquierda, lo que indicaría una tasa alta de verdaderos positivos y una tasa baja de falsos positivos.\n",
        "\n",
        "En resumen, el modelo tiene un rendimiento razonable en términos de discriminación de las clases, pero podría beneficiarse de la optimización para mejorar la sensibilidad o especificidad según las necesidades clínicas y los costos asociados con los falsos positivos y falsos negativos."
      ],
      "metadata": {
        "id": "0PKhUhWxw6HG"
      }
    },
    {
      "metadata": {
        "trusted": true,
        "_uuid": "17143ca1a7fa550573b848e747fec666a2cc7355",
        "id": "UaKs1m62-F0W",
        "colab": {
          "base_uri": "https://localhost:8080/"
        },
        "outputId": "799a6df6-a87d-484e-8bf9-bb6c95acdf97"
      },
      "cell_type": "code",
      "source": [
        "# Curva área under ROC\n",
        "from sklearn.metrics import roc_auc_score\n",
        "roc_auc_score(y_test,y_pred_proba)"
      ],
      "execution_count": 26,
      "outputs": [
        {
          "output_type": "execute_result",
          "data": {
            "text/plain": [
              "0.7358534430650485"
            ]
          },
          "metadata": {},
          "execution_count": 26
        }
      ]
    },
    {
      "metadata": {
        "_uuid": "ec869f5802897e0eb39425bcb987d930078f0bf0",
        "id": "s1JJDsss-F0W"
      },
      "cell_type": "markdown",
      "source": [
        "## 1.7 **Cross Validation / Validación cruzada**\n",
        "\n",
        "Antes de entrar en detalles sobre el ajuste del hiperparámetro, entendamos el concepto de validación cruzada.\n",
        "\n",
        "La validación cruzada es una técnica que se usa para asegurarnos de que el modelo de aprendizaje automático que estamos construyendo funciona bien no solo con los datos que usó para aprender, sino también con datos nuevos que nunca ha visto. Es como si hiciéramos muchos mini-exámenes al modelo con distintos conjuntos de preguntas para asegurarnos de que realmente sabe el material y no solo se aprendió las respuestas de memoria.\n",
        "\n",
        "Imagina que tienes un grupo de estudiantes y quieres saber cuán bien pueden hacer una tarea. Pero en lugar de darle a cada uno el mismo examen, divides la tarea en partes y les das a cada uno una parte diferente para trabajar. Luego, rotas las partes entre los estudiantes de tal manera que todos terminen trabajando en todas las partes. Al final, puedes ver cuán bien cada estudiante ha realizado la tarea completa al promediar sus resultados en todas las partes. Esto ayuda a evitar que un estudiante obtenga una buena calificación solo porque le tocó la parte más fácil.\n",
        "\n",
        "En el contexto de un modelo de aprendizaje automático como k-NN, la \"validación cruzada k-fold\" significa que dividimos nuestros datos en \"k\" partes, y:\n",
        "\n",
        "1. Entrenamos nuestro modelo en k-1 de esas partes (los \"folds\" o pliegues).\n",
        "2. Probamos cómo le va al modelo en la parte que no usamos para entrenar.\n",
        "3. Repetimos este proceso \"k\" veces, cada vez con una parte diferente reservada para la prueba.\n",
        "4. Al final, promediamos los resultados para obtener una medida del rendimiento del modelo."
      ]
    },
    {
      "metadata": {
        "_uuid": "06fc8b3adb267046d44b472d1c413707ce7e9964",
        "id": "9qrHEbfM-F0X"
      },
      "cell_type": "markdown",
      "source": [
        "Ahora, para el ajuste de hiperparámetros, que es básicamente encontrar la mejor configuración para nuestro modelo (como decidir cuántos vecinos usar en k-NN), usamos algo llamado \"GridSearchCV\". Este método prueba muchas configuraciones diferentes (en este caso, diferentes números de vecinos), usa la validación cruzada para ver cómo le va a cada configuración y luego selecciona la configuración que obtuvo la mejor puntuación promedio. Así nos aseguramos de que no solo estamos eligiendo una configuración que funcionó bien por casualidad en un solo conjunto de datos, sino una que es consistentemente buena a través de diferentes partes de los datos.\n",
        "\n"
      ]
    },
    {
      "metadata": {
        "trusted": true,
        "collapsed": true,
        "_uuid": "751e6a83ecd529354e07e237ab5596b27f9061c0",
        "id": "6gg1PieW-F0X"
      },
      "cell_type": "code",
      "source": [
        "# importamos GridSearchCV\n",
        "from sklearn.model_selection import GridSearchCV"
      ],
      "execution_count": null,
      "outputs": []
    },
    {
      "metadata": {
        "trusted": true,
        "collapsed": true,
        "_uuid": "e0c8e768a5912accaa8b9fd8dd4d8f6654a12fb5",
        "id": "j4th5fRl-F0X"
      },
      "cell_type": "code",
      "source": [
        "# Se introduce un rango de vecinos a estudiar\n",
        "param_grid = {'n_neighbors':np.arange(1,50)}"
      ],
      "execution_count": null,
      "outputs": []
    },
    {
      "metadata": {
        "trusted": true,
        "_uuid": "f47376c83b43e5b724410de51a9657934e9c4b20",
        "id": "fBUan80z-F0X",
        "colab": {
          "base_uri": "https://localhost:8080/",
          "height": 118
        },
        "outputId": "8f78748a-ca42-4d08-b6f0-bdb6eca66556"
      },
      "cell_type": "code",
      "source": [
        "knn = KNeighborsClassifier()\n",
        "knn_cv= GridSearchCV(knn,param_grid,cv=5)\n",
        "knn_cv.fit(X,y)"
      ],
      "execution_count": null,
      "outputs": [
        {
          "output_type": "execute_result",
          "data": {
            "text/plain": [
              "GridSearchCV(cv=5, estimator=KNeighborsClassifier(),\n",
              "             param_grid={'n_neighbors': array([ 1,  2,  3,  4,  5,  6,  7,  8,  9, 10, 11, 12, 13, 14, 15, 16, 17,\n",
              "       18, 19, 20, 21, 22, 23, 24, 25, 26, 27, 28, 29, 30, 31, 32, 33, 34,\n",
              "       35, 36, 37, 38, 39, 40, 41, 42, 43, 44, 45, 46, 47, 48, 49])})"
            ],
            "text/html": [
              "<style>#sk-container-id-4 {color: black;background-color: white;}#sk-container-id-4 pre{padding: 0;}#sk-container-id-4 div.sk-toggleable {background-color: white;}#sk-container-id-4 label.sk-toggleable__label {cursor: pointer;display: block;width: 100%;margin-bottom: 0;padding: 0.3em;box-sizing: border-box;text-align: center;}#sk-container-id-4 label.sk-toggleable__label-arrow:before {content: \"▸\";float: left;margin-right: 0.25em;color: #696969;}#sk-container-id-4 label.sk-toggleable__label-arrow:hover:before {color: black;}#sk-container-id-4 div.sk-estimator:hover label.sk-toggleable__label-arrow:before {color: black;}#sk-container-id-4 div.sk-toggleable__content {max-height: 0;max-width: 0;overflow: hidden;text-align: left;background-color: #f0f8ff;}#sk-container-id-4 div.sk-toggleable__content pre {margin: 0.2em;color: black;border-radius: 0.25em;background-color: #f0f8ff;}#sk-container-id-4 input.sk-toggleable__control:checked~div.sk-toggleable__content {max-height: 200px;max-width: 100%;overflow: auto;}#sk-container-id-4 input.sk-toggleable__control:checked~label.sk-toggleable__label-arrow:before {content: \"▾\";}#sk-container-id-4 div.sk-estimator input.sk-toggleable__control:checked~label.sk-toggleable__label {background-color: #d4ebff;}#sk-container-id-4 div.sk-label input.sk-toggleable__control:checked~label.sk-toggleable__label {background-color: #d4ebff;}#sk-container-id-4 input.sk-hidden--visually {border: 0;clip: rect(1px 1px 1px 1px);clip: rect(1px, 1px, 1px, 1px);height: 1px;margin: -1px;overflow: hidden;padding: 0;position: absolute;width: 1px;}#sk-container-id-4 div.sk-estimator {font-family: monospace;background-color: #f0f8ff;border: 1px dotted black;border-radius: 0.25em;box-sizing: border-box;margin-bottom: 0.5em;}#sk-container-id-4 div.sk-estimator:hover {background-color: #d4ebff;}#sk-container-id-4 div.sk-parallel-item::after {content: \"\";width: 100%;border-bottom: 1px solid gray;flex-grow: 1;}#sk-container-id-4 div.sk-label:hover label.sk-toggleable__label {background-color: #d4ebff;}#sk-container-id-4 div.sk-serial::before {content: \"\";position: absolute;border-left: 1px solid gray;box-sizing: border-box;top: 0;bottom: 0;left: 50%;z-index: 0;}#sk-container-id-4 div.sk-serial {display: flex;flex-direction: column;align-items: center;background-color: white;padding-right: 0.2em;padding-left: 0.2em;position: relative;}#sk-container-id-4 div.sk-item {position: relative;z-index: 1;}#sk-container-id-4 div.sk-parallel {display: flex;align-items: stretch;justify-content: center;background-color: white;position: relative;}#sk-container-id-4 div.sk-item::before, #sk-container-id-4 div.sk-parallel-item::before {content: \"\";position: absolute;border-left: 1px solid gray;box-sizing: border-box;top: 0;bottom: 0;left: 50%;z-index: -1;}#sk-container-id-4 div.sk-parallel-item {display: flex;flex-direction: column;z-index: 1;position: relative;background-color: white;}#sk-container-id-4 div.sk-parallel-item:first-child::after {align-self: flex-end;width: 50%;}#sk-container-id-4 div.sk-parallel-item:last-child::after {align-self: flex-start;width: 50%;}#sk-container-id-4 div.sk-parallel-item:only-child::after {width: 0;}#sk-container-id-4 div.sk-dashed-wrapped {border: 1px dashed gray;margin: 0 0.4em 0.5em 0.4em;box-sizing: border-box;padding-bottom: 0.4em;background-color: white;}#sk-container-id-4 div.sk-label label {font-family: monospace;font-weight: bold;display: inline-block;line-height: 1.2em;}#sk-container-id-4 div.sk-label-container {text-align: center;}#sk-container-id-4 div.sk-container {/* jupyter's `normalize.less` sets `[hidden] { display: none; }` but bootstrap.min.css set `[hidden] { display: none !important; }` so we also need the `!important` here to be able to override the default hidden behavior on the sphinx rendered scikit-learn.org. See: https://github.com/scikit-learn/scikit-learn/issues/21755 */display: inline-block !important;position: relative;}#sk-container-id-4 div.sk-text-repr-fallback {display: none;}</style><div id=\"sk-container-id-4\" class=\"sk-top-container\"><div class=\"sk-text-repr-fallback\"><pre>GridSearchCV(cv=5, estimator=KNeighborsClassifier(),\n",
              "             param_grid={&#x27;n_neighbors&#x27;: array([ 1,  2,  3,  4,  5,  6,  7,  8,  9, 10, 11, 12, 13, 14, 15, 16, 17,\n",
              "       18, 19, 20, 21, 22, 23, 24, 25, 26, 27, 28, 29, 30, 31, 32, 33, 34,\n",
              "       35, 36, 37, 38, 39, 40, 41, 42, 43, 44, 45, 46, 47, 48, 49])})</pre><b>In a Jupyter environment, please rerun this cell to show the HTML representation or trust the notebook. <br />On GitHub, the HTML representation is unable to render, please try loading this page with nbviewer.org.</b></div><div class=\"sk-container\" hidden><div class=\"sk-item sk-dashed-wrapped\"><div class=\"sk-label-container\"><div class=\"sk-label sk-toggleable\"><input class=\"sk-toggleable__control sk-hidden--visually\" id=\"sk-estimator-id-6\" type=\"checkbox\" ><label for=\"sk-estimator-id-6\" class=\"sk-toggleable__label sk-toggleable__label-arrow\">GridSearchCV</label><div class=\"sk-toggleable__content\"><pre>GridSearchCV(cv=5, estimator=KNeighborsClassifier(),\n",
              "             param_grid={&#x27;n_neighbors&#x27;: array([ 1,  2,  3,  4,  5,  6,  7,  8,  9, 10, 11, 12, 13, 14, 15, 16, 17,\n",
              "       18, 19, 20, 21, 22, 23, 24, 25, 26, 27, 28, 29, 30, 31, 32, 33, 34,\n",
              "       35, 36, 37, 38, 39, 40, 41, 42, 43, 44, 45, 46, 47, 48, 49])})</pre></div></div></div><div class=\"sk-parallel\"><div class=\"sk-parallel-item\"><div class=\"sk-item\"><div class=\"sk-label-container\"><div class=\"sk-label sk-toggleable\"><input class=\"sk-toggleable__control sk-hidden--visually\" id=\"sk-estimator-id-7\" type=\"checkbox\" ><label for=\"sk-estimator-id-7\" class=\"sk-toggleable__label sk-toggleable__label-arrow\">estimator: KNeighborsClassifier</label><div class=\"sk-toggleable__content\"><pre>KNeighborsClassifier()</pre></div></div></div><div class=\"sk-serial\"><div class=\"sk-item\"><div class=\"sk-estimator sk-toggleable\"><input class=\"sk-toggleable__control sk-hidden--visually\" id=\"sk-estimator-id-8\" type=\"checkbox\" ><label for=\"sk-estimator-id-8\" class=\"sk-toggleable__label sk-toggleable__label-arrow\">KNeighborsClassifier</label><div class=\"sk-toggleable__content\"><pre>KNeighborsClassifier()</pre></div></div></div></div></div></div></div></div></div></div>"
            ]
          },
          "metadata": {},
          "execution_count": 50
        }
      ]
    },
    {
      "metadata": {
        "trusted": true,
        "_uuid": "01a0c192bc77da41c61b2d9161fc052210542cfc",
        "id": "AfMlkrZL-F0X",
        "colab": {
          "base_uri": "https://localhost:8080/"
        },
        "outputId": "f1603ccb-8b3b-46a1-c909-a703b50186d9"
      },
      "cell_type": "code",
      "source": [
        "knn_cv.best_score_"
      ],
      "execution_count": null,
      "outputs": [
        {
          "output_type": "execute_result",
          "data": {
            "text/plain": [
              "0.7578558696205755"
            ]
          },
          "metadata": {},
          "execution_count": 51
        }
      ]
    },
    {
      "metadata": {
        "trusted": true,
        "_uuid": "54eea8ab157f3d67a725422deb303a082ff695b5",
        "id": "7W1ulQWG-F0c",
        "colab": {
          "base_uri": "https://localhost:8080/"
        },
        "outputId": "fc9ca06e-66eb-4a34-de07-046b99060121"
      },
      "cell_type": "code",
      "source": [
        "knn_cv.best_params_"
      ],
      "execution_count": null,
      "outputs": [
        {
          "output_type": "execute_result",
          "data": {
            "text/plain": [
              "{'n_neighbors': 14}"
            ]
          },
          "metadata": {},
          "execution_count": 52
        }
      ]
    },
    {
      "metadata": {
        "_uuid": "35a9ac99ade7f0e392272be0a021747aeb4759ac",
        "id": "QkDgTABC-F0c"
      },
      "cell_type": "markdown",
      "source": [
        "De lo que podemos sacar que un clasificador knn con un número de vecinos de 14 obtiene la mejor puntuación/exactitud de 0,7578, es decir, alrededor del 76% de acierto en la clasificación."
      ]
    }
  ],
  "metadata": {
    "kernelspec": {
      "display_name": "Python 3",
      "language": "python",
      "name": "python3"
    },
    "language_info": {
      "name": "python",
      "version": "3.6.4",
      "mimetype": "text/x-python",
      "codemirror_mode": {
        "name": "ipython",
        "version": 3
      },
      "pygments_lexer": "ipython3",
      "nbconvert_exporter": "python",
      "file_extension": ".py"
    },
    "colab": {
      "provenance": [],
      "include_colab_link": true
    }
  },
  "nbformat": 4,
  "nbformat_minor": 0
}