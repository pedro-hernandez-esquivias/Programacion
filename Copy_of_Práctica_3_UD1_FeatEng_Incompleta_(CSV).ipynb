{
  "nbformat": 4,
  "nbformat_minor": 0,
  "metadata": {
    "colab": {
      "provenance": [],
      "include_colab_link": true
    },
    "kernelspec": {
      "name": "python3",
      "display_name": "Python 3"
    },
    "language_info": {
      "name": "python"
    }
  },
  "cells": [
    {
      "cell_type": "markdown",
      "metadata": {
        "id": "view-in-github",
        "colab_type": "text"
      },
      "source": [
        "<a href=\"https://colab.research.google.com/github/pedro-hernandez-esquivias/Programacion/blob/main/Copy_of_Pr%C3%A1ctica_3_UD1_FeatEng_Incompleta_(CSV).ipynb\" target=\"_parent\"><img src=\"https://colab.research.google.com/assets/colab-badge.svg\" alt=\"Open In Colab\"/></a>"
      ]
    },
    {
      "cell_type": "markdown",
      "source": [
        "# Práctica 3 Feature Engineering"
      ],
      "metadata": {
        "id": "n9ySbQqu0PXX"
      }
    },
    {
      "cell_type": "markdown",
      "source": [
        "**Importante**: Antes de empezar la práctica es necesario subir el fichero \".CSV\" que contiene los datos para el desarrollo de la misma"
      ],
      "metadata": {
        "id": "eZu7iwQZ0SzG"
      }
    },
    {
      "cell_type": "markdown",
      "source": [
        "Vamos a leer una base de datos con información proporcionada sobre el Estudio Nacional de Examen de Salud y Nutrición (NHANES) de EEUU. Nuestro objetivo será estudiar la distribución de la proteína albúmina (URXUMA en la BBDD) en muestras de orina de los pacientes que han realizado dicho examen, para identificar posibles valores fuera del rango normal que pudieran ser identificativos de problemas de salud relacionados con los riñones. Las unidades de medida son g/dL. El rango de valores normales de la proteína oscila entre 2 y 7 g/dL"
      ],
      "metadata": {
        "id": "tR_OUgdf0wvm"
      }
    },
    {
      "cell_type": "markdown",
      "source": [
        "Antes de nada instalamos la librería para leer el archivo"
      ],
      "metadata": {
        "id": "4wl_TFAi4WvV"
      }
    },
    {
      "cell_type": "code",
      "source": [
        "!pip install ucimlrepo"
      ],
      "metadata": {
        "colab": {
          "base_uri": "https://localhost:8080/"
        },
        "id": "JW9J28H5w5GJ",
        "outputId": "af08452e-37a8-4f95-9430-0f9b3f3da3d0"
      },
      "execution_count": null,
      "outputs": [
        {
          "output_type": "stream",
          "name": "stdout",
          "text": [
            "Collecting ucimlrepo\n",
            "  Downloading ucimlrepo-0.0.7-py3-none-any.whl.metadata (5.5 kB)\n",
            "Requirement already satisfied: pandas>=1.0.0 in /usr/local/lib/python3.10/dist-packages (from ucimlrepo) (2.2.2)\n",
            "Requirement already satisfied: certifi>=2020.12.5 in /usr/local/lib/python3.10/dist-packages (from ucimlrepo) (2024.8.30)\n",
            "Requirement already satisfied: numpy>=1.22.4 in /usr/local/lib/python3.10/dist-packages (from pandas>=1.0.0->ucimlrepo) (1.26.4)\n",
            "Requirement already satisfied: python-dateutil>=2.8.2 in /usr/local/lib/python3.10/dist-packages (from pandas>=1.0.0->ucimlrepo) (2.8.2)\n",
            "Requirement already satisfied: pytz>=2020.1 in /usr/local/lib/python3.10/dist-packages (from pandas>=1.0.0->ucimlrepo) (2024.2)\n",
            "Requirement already satisfied: tzdata>=2022.7 in /usr/local/lib/python3.10/dist-packages (from pandas>=1.0.0->ucimlrepo) (2024.2)\n",
            "Requirement already satisfied: six>=1.5 in /usr/local/lib/python3.10/dist-packages (from python-dateutil>=2.8.2->pandas>=1.0.0->ucimlrepo) (1.16.0)\n",
            "Downloading ucimlrepo-0.0.7-py3-none-any.whl (8.0 kB)\n",
            "Installing collected packages: ucimlrepo\n",
            "Successfully installed ucimlrepo-0.0.7\n"
          ]
        }
      ]
    },
    {
      "cell_type": "markdown",
      "source": [
        "Importamos las lirberías necesarias para llevar a cabo la práctica"
      ],
      "metadata": {
        "id": "BN2cObOo4eE1"
      }
    },
    {
      "cell_type": "code",
      "source": [
        "import numpy as np\n",
        "import matplotlib.pyplot as plt\n",
        "import pandas as pd\n",
        "import seaborn as sns\n",
        "from scipy.stats import boxcox\n",
        "from ucimlrepo import fetch_ucirepo\n",
        "from sklearn.preprocessing import MinMaxScaler, StandardScaler"
      ],
      "metadata": {
        "id": "wrjf2zn7BiHt"
      },
      "execution_count": null,
      "outputs": []
    },
    {
      "cell_type": "markdown",
      "source": [
        "Leemos el dataframe y seleccionamo la columna requerida"
      ],
      "metadata": {
        "id": "QFXuAi124hjj"
      }
    },
    {
      "cell_type": "code",
      "source": [
        "df=pd.read_csv('ALB_CR_J.csv',sep=',')[['URXUMA']]"
      ],
      "metadata": {
        "id": "wHXwG2sk1Gub"
      },
      "execution_count": null,
      "outputs": []
    },
    {
      "cell_type": "markdown",
      "source": [
        "Hacemos un breve estudio de la información de proteína"
      ],
      "metadata": {
        "id": "CERM7uQg4pvb"
      }
    },
    {
      "cell_type": "code",
      "source": [
        "# Mostramos algunos registros de la proteína\n"
      ],
      "metadata": {
        "id": "6QQydosqvWVT"
      },
      "execution_count": null,
      "outputs": []
    },
    {
      "cell_type": "code",
      "source": [
        "# Mostrarv algunos datos estadísticos\n"
      ],
      "metadata": {
        "id": "aTyIr15y4szK"
      },
      "execution_count": null,
      "outputs": []
    },
    {
      "cell_type": "markdown",
      "source": [
        "Realizamos un histograma"
      ],
      "metadata": {
        "id": "VMzWB1SZ_viK"
      }
    },
    {
      "cell_type": "code",
      "source": [
        "# Obtener un primer Histograma y estudiar el caso\n"
      ],
      "metadata": {
        "id": "-pKzgVAb_uuw"
      },
      "execution_count": null,
      "outputs": []
    },
    {
      "cell_type": "markdown",
      "source": [
        "Vemos que no podemos sacar conclusiones de los datos que nos sean de utilidad porque hemos de diferenciar niveles que oscilan entre 3 y 7 g/dL y el rango que tenemos en el histograma llega hasta 14000"
      ],
      "metadata": {
        "id": "g1vulQviAqLQ"
      }
    },
    {
      "cell_type": "markdown",
      "source": [
        "**Primera aplicación: Log Transfromation**\n",
        "\n",
        "Aplicamos transformación logarítmica para estudiar la nueva distribución y obtener información con la que poder sacar conclusiones"
      ],
      "metadata": {
        "id": "errrXtkCS1Mj"
      }
    },
    {
      "cell_type": "code",
      "source": [
        "# Aplicar log transform al caso y estudiar la nueva distribución\n"
      ],
      "metadata": {
        "id": "-5gtdmEezbxl"
      },
      "execution_count": null,
      "outputs": []
    },
    {
      "cell_type": "markdown",
      "source": [
        "Vemos que según lo visto en la parte teórica, la mayoría de valores se distribuyen entre 1 y 10 g/dL. Tenemos una buena parte con valores entre 10 y 100 y a partir de 100 encontramos pocos valores de pacientes"
      ],
      "metadata": {
        "id": "9mOjBWPxmGtE"
      }
    },
    {
      "cell_type": "markdown",
      "source": [
        "**Segunda aplicación: Transformación Box Cox**\n",
        "\n",
        "Vamos a comprobar como funciona nuestra distribución si aplicamos una trasformación Box Cox"
      ],
      "metadata": {
        "id": "I8OiOWKlm6yM"
      }
    },
    {
      "cell_type": "code",
      "source": [
        "# Aplicar Box-Cox Transform al caso y estudiar la nueva distribución\n"
      ],
      "metadata": {
        "id": "ghl5oX8rEG5L"
      },
      "execution_count": null,
      "outputs": []
    },
    {
      "cell_type": "markdown",
      "source": [
        "Hemos utilizado un valor lambda mayor que uno, que sería útil en caso de tener muchos valores muy altos en nuestra distribución. No es el caso, puesto que nuestra cola pesada es la cola izquierda. Utilizamos valores cercanos a 0:"
      ],
      "metadata": {
        "id": "8E_j3Js-qLhW"
      }
    },
    {
      "cell_type": "code",
      "source": [
        "# Cómo varía con Lambda?\n"
      ],
      "metadata": {
        "id": "Cs7yqgVFp9F-"
      },
      "execution_count": null,
      "outputs": []
    },
    {
      "cell_type": "markdown",
      "source": [
        "Calculamos los extremos del intervalo de interés () para interpretar los valores contenidos en dicho intervalo"
      ],
      "metadata": {
        "id": "xvqvgDiYqj6d"
      }
    },
    {
      "cell_type": "code",
      "source": [
        "# ¿Cómo interpretamos el intervalo superior?\n"
      ],
      "metadata": {
        "id": "UK52nt3Vqjif"
      },
      "execution_count": null,
      "outputs": []
    },
    {
      "cell_type": "code",
      "source": [
        "# ¿Y el inferior?"
      ],
      "metadata": {
        "id": "reA-n_P0qaQe"
      },
      "execution_count": null,
      "outputs": []
    },
    {
      "cell_type": "markdown",
      "source": [
        "La tendencia de la distribución de la albúmina en la muestra de pacientes es de una concentración alta de proteína, lo que puede dar lugar problemas de salud, más aún si nos fijamos en pacientes que superan los 10g/dL"
      ],
      "metadata": {
        "id": "Pjm3ONfwrZ9y"
      }
    },
    {
      "cell_type": "markdown",
      "source": [
        "Con respecto a la segunda parte de la práctica, leemos del repositorio UCI una base de datos relacionada con elementos incluidos en el vino, con las siguientes variables:\n",
        "\n",
        "\n",
        "**fixed_acidity**: Representa la cantidad fija de ácidos totales en el vino, que no se evaporan fácilmente.\n",
        "\n",
        "**volatile_acidity**: Indica la cantidad de ácidos volátiles en el vino. Niveles elevados pueden llevar a un sabor desagradable similar al vinagre.\n",
        "\n",
        "**citric_acid**: Representa la cantidad de ácido cítrico en el vino, que puede contribuir a la frescura y la acidez.\n",
        "\n",
        "**residual_sugar**: Indica la cantidad de azúcar residual en el vino después de la fermentación. Puede afectar el sabor y la dulzura del vino.\n",
        "\n",
        "**chlorides**: Representa la cantidad de cloruros en el vino. Niveles elevados pueden dar un sabor salado.\n",
        "\n",
        "**free_sulfur_dioxide**: Indica la cantidad de dióxido de azufre libre en el vino, que actúa como antioxidante y antimicrobiano.\n",
        "\n",
        "**total_sulfur_dioxide**: Representa la cantidad total de dióxido de azufre (libre y combinado) en el vino.\n",
        "\n",
        "**density**: La densidad del vino, que puede estar relacionada con el contenido de alcohol y azúcar.\n",
        "\n",
        "**pH**: Mide la acidez o alcalinidad del vino. Un pH más bajo indica mayor acidez.\n",
        "\n",
        "**sulphates**: Indica la cantidad de sulfatos en el vino. Pueden contribuir a la preservación y estabilidad del vino."
      ],
      "metadata": {
        "id": "fiKau0QZwG-J"
      }
    },
    {
      "cell_type": "code",
      "source": [
        "wine = fetch_ucirepo(id=186)\n",
        "\n",
        "df = wine.data.features"
      ],
      "metadata": {
        "id": "Bfq2uiDhqdym"
      },
      "execution_count": null,
      "outputs": []
    },
    {
      "cell_type": "code",
      "source": [
        "# Mostrar el dataframe\n"
      ],
      "metadata": {
        "id": "0xoxpPw7wJym"
      },
      "execution_count": null,
      "outputs": []
    },
    {
      "cell_type": "code",
      "source": [
        "# Mostrar los valores estadísticos\n"
      ],
      "metadata": {
        "colab": {
          "base_uri": "https://localhost:8080/",
          "height": 320
        },
        "id": "lPYjE30z03Td",
        "outputId": "aff34e5b-8963-46d0-a52c-a88305bfe315"
      },
      "execution_count": null,
      "outputs": [
        {
          "output_type": "execute_result",
          "data": {
            "text/plain": [
              "       fixed_acidity  volatile_acidity  citric_acid  residual_sugar  \\\n",
              "count    6497.000000       6497.000000  6497.000000     6497.000000   \n",
              "mean        7.215307          0.339666     0.318633        5.443235   \n",
              "std         1.296434          0.164636     0.145318        4.757804   \n",
              "min         3.800000          0.080000     0.000000        0.600000   \n",
              "25%         6.400000          0.230000     0.250000        1.800000   \n",
              "50%         7.000000          0.290000     0.310000        3.000000   \n",
              "75%         7.700000          0.400000     0.390000        8.100000   \n",
              "max        15.900000          1.580000     1.660000       65.800000   \n",
              "\n",
              "         chlorides  free_sulfur_dioxide  total_sulfur_dioxide      density  \\\n",
              "count  6497.000000          6497.000000           6497.000000  6497.000000   \n",
              "mean      0.056034            30.525319            115.744574     0.994697   \n",
              "std       0.035034            17.749400             56.521855     0.002999   \n",
              "min       0.009000             1.000000              6.000000     0.987110   \n",
              "25%       0.038000            17.000000             77.000000     0.992340   \n",
              "50%       0.047000            29.000000            118.000000     0.994890   \n",
              "75%       0.065000            41.000000            156.000000     0.996990   \n",
              "max       0.611000           289.000000            440.000000     1.038980   \n",
              "\n",
              "                pH    sulphates      alcohol  \n",
              "count  6497.000000  6497.000000  6497.000000  \n",
              "mean      3.218501     0.531268    10.491801  \n",
              "std       0.160787     0.148806     1.192712  \n",
              "min       2.720000     0.220000     8.000000  \n",
              "25%       3.110000     0.430000     9.500000  \n",
              "50%       3.210000     0.510000    10.300000  \n",
              "75%       3.320000     0.600000    11.300000  \n",
              "max       4.010000     2.000000    14.900000  "
            ],
            "text/html": [
              "\n",
              "  <div id=\"df-c67c11cd-e863-4fd1-b6d1-2fd7475eab2b\" class=\"colab-df-container\">\n",
              "    <div>\n",
              "<style scoped>\n",
              "    .dataframe tbody tr th:only-of-type {\n",
              "        vertical-align: middle;\n",
              "    }\n",
              "\n",
              "    .dataframe tbody tr th {\n",
              "        vertical-align: top;\n",
              "    }\n",
              "\n",
              "    .dataframe thead th {\n",
              "        text-align: right;\n",
              "    }\n",
              "</style>\n",
              "<table border=\"1\" class=\"dataframe\">\n",
              "  <thead>\n",
              "    <tr style=\"text-align: right;\">\n",
              "      <th></th>\n",
              "      <th>fixed_acidity</th>\n",
              "      <th>volatile_acidity</th>\n",
              "      <th>citric_acid</th>\n",
              "      <th>residual_sugar</th>\n",
              "      <th>chlorides</th>\n",
              "      <th>free_sulfur_dioxide</th>\n",
              "      <th>total_sulfur_dioxide</th>\n",
              "      <th>density</th>\n",
              "      <th>pH</th>\n",
              "      <th>sulphates</th>\n",
              "      <th>alcohol</th>\n",
              "    </tr>\n",
              "  </thead>\n",
              "  <tbody>\n",
              "    <tr>\n",
              "      <th>count</th>\n",
              "      <td>6497.000000</td>\n",
              "      <td>6497.000000</td>\n",
              "      <td>6497.000000</td>\n",
              "      <td>6497.000000</td>\n",
              "      <td>6497.000000</td>\n",
              "      <td>6497.000000</td>\n",
              "      <td>6497.000000</td>\n",
              "      <td>6497.000000</td>\n",
              "      <td>6497.000000</td>\n",
              "      <td>6497.000000</td>\n",
              "      <td>6497.000000</td>\n",
              "    </tr>\n",
              "    <tr>\n",
              "      <th>mean</th>\n",
              "      <td>7.215307</td>\n",
              "      <td>0.339666</td>\n",
              "      <td>0.318633</td>\n",
              "      <td>5.443235</td>\n",
              "      <td>0.056034</td>\n",
              "      <td>30.525319</td>\n",
              "      <td>115.744574</td>\n",
              "      <td>0.994697</td>\n",
              "      <td>3.218501</td>\n",
              "      <td>0.531268</td>\n",
              "      <td>10.491801</td>\n",
              "    </tr>\n",
              "    <tr>\n",
              "      <th>std</th>\n",
              "      <td>1.296434</td>\n",
              "      <td>0.164636</td>\n",
              "      <td>0.145318</td>\n",
              "      <td>4.757804</td>\n",
              "      <td>0.035034</td>\n",
              "      <td>17.749400</td>\n",
              "      <td>56.521855</td>\n",
              "      <td>0.002999</td>\n",
              "      <td>0.160787</td>\n",
              "      <td>0.148806</td>\n",
              "      <td>1.192712</td>\n",
              "    </tr>\n",
              "    <tr>\n",
              "      <th>min</th>\n",
              "      <td>3.800000</td>\n",
              "      <td>0.080000</td>\n",
              "      <td>0.000000</td>\n",
              "      <td>0.600000</td>\n",
              "      <td>0.009000</td>\n",
              "      <td>1.000000</td>\n",
              "      <td>6.000000</td>\n",
              "      <td>0.987110</td>\n",
              "      <td>2.720000</td>\n",
              "      <td>0.220000</td>\n",
              "      <td>8.000000</td>\n",
              "    </tr>\n",
              "    <tr>\n",
              "      <th>25%</th>\n",
              "      <td>6.400000</td>\n",
              "      <td>0.230000</td>\n",
              "      <td>0.250000</td>\n",
              "      <td>1.800000</td>\n",
              "      <td>0.038000</td>\n",
              "      <td>17.000000</td>\n",
              "      <td>77.000000</td>\n",
              "      <td>0.992340</td>\n",
              "      <td>3.110000</td>\n",
              "      <td>0.430000</td>\n",
              "      <td>9.500000</td>\n",
              "    </tr>\n",
              "    <tr>\n",
              "      <th>50%</th>\n",
              "      <td>7.000000</td>\n",
              "      <td>0.290000</td>\n",
              "      <td>0.310000</td>\n",
              "      <td>3.000000</td>\n",
              "      <td>0.047000</td>\n",
              "      <td>29.000000</td>\n",
              "      <td>118.000000</td>\n",
              "      <td>0.994890</td>\n",
              "      <td>3.210000</td>\n",
              "      <td>0.510000</td>\n",
              "      <td>10.300000</td>\n",
              "    </tr>\n",
              "    <tr>\n",
              "      <th>75%</th>\n",
              "      <td>7.700000</td>\n",
              "      <td>0.400000</td>\n",
              "      <td>0.390000</td>\n",
              "      <td>8.100000</td>\n",
              "      <td>0.065000</td>\n",
              "      <td>41.000000</td>\n",
              "      <td>156.000000</td>\n",
              "      <td>0.996990</td>\n",
              "      <td>3.320000</td>\n",
              "      <td>0.600000</td>\n",
              "      <td>11.300000</td>\n",
              "    </tr>\n",
              "    <tr>\n",
              "      <th>max</th>\n",
              "      <td>15.900000</td>\n",
              "      <td>1.580000</td>\n",
              "      <td>1.660000</td>\n",
              "      <td>65.800000</td>\n",
              "      <td>0.611000</td>\n",
              "      <td>289.000000</td>\n",
              "      <td>440.000000</td>\n",
              "      <td>1.038980</td>\n",
              "      <td>4.010000</td>\n",
              "      <td>2.000000</td>\n",
              "      <td>14.900000</td>\n",
              "    </tr>\n",
              "  </tbody>\n",
              "</table>\n",
              "</div>\n",
              "    <div class=\"colab-df-buttons\">\n",
              "\n",
              "  <div class=\"colab-df-container\">\n",
              "    <button class=\"colab-df-convert\" onclick=\"convertToInteractive('df-c67c11cd-e863-4fd1-b6d1-2fd7475eab2b')\"\n",
              "            title=\"Convert this dataframe to an interactive table.\"\n",
              "            style=\"display:none;\">\n",
              "\n",
              "  <svg xmlns=\"http://www.w3.org/2000/svg\" height=\"24px\" viewBox=\"0 -960 960 960\">\n",
              "    <path d=\"M120-120v-720h720v720H120Zm60-500h600v-160H180v160Zm220 220h160v-160H400v160Zm0 220h160v-160H400v160ZM180-400h160v-160H180v160Zm440 0h160v-160H620v160ZM180-180h160v-160H180v160Zm440 0h160v-160H620v160Z\"/>\n",
              "  </svg>\n",
              "    </button>\n",
              "\n",
              "  <style>\n",
              "    .colab-df-container {\n",
              "      display:flex;\n",
              "      gap: 12px;\n",
              "    }\n",
              "\n",
              "    .colab-df-convert {\n",
              "      background-color: #E8F0FE;\n",
              "      border: none;\n",
              "      border-radius: 50%;\n",
              "      cursor: pointer;\n",
              "      display: none;\n",
              "      fill: #1967D2;\n",
              "      height: 32px;\n",
              "      padding: 0 0 0 0;\n",
              "      width: 32px;\n",
              "    }\n",
              "\n",
              "    .colab-df-convert:hover {\n",
              "      background-color: #E2EBFA;\n",
              "      box-shadow: 0px 1px 2px rgba(60, 64, 67, 0.3), 0px 1px 3px 1px rgba(60, 64, 67, 0.15);\n",
              "      fill: #174EA6;\n",
              "    }\n",
              "\n",
              "    .colab-df-buttons div {\n",
              "      margin-bottom: 4px;\n",
              "    }\n",
              "\n",
              "    [theme=dark] .colab-df-convert {\n",
              "      background-color: #3B4455;\n",
              "      fill: #D2E3FC;\n",
              "    }\n",
              "\n",
              "    [theme=dark] .colab-df-convert:hover {\n",
              "      background-color: #434B5C;\n",
              "      box-shadow: 0px 1px 3px 1px rgba(0, 0, 0, 0.15);\n",
              "      filter: drop-shadow(0px 1px 2px rgba(0, 0, 0, 0.3));\n",
              "      fill: #FFFFFF;\n",
              "    }\n",
              "  </style>\n",
              "\n",
              "    <script>\n",
              "      const buttonEl =\n",
              "        document.querySelector('#df-c67c11cd-e863-4fd1-b6d1-2fd7475eab2b button.colab-df-convert');\n",
              "      buttonEl.style.display =\n",
              "        google.colab.kernel.accessAllowed ? 'block' : 'none';\n",
              "\n",
              "      async function convertToInteractive(key) {\n",
              "        const element = document.querySelector('#df-c67c11cd-e863-4fd1-b6d1-2fd7475eab2b');\n",
              "        const dataTable =\n",
              "          await google.colab.kernel.invokeFunction('convertToInteractive',\n",
              "                                                    [key], {});\n",
              "        if (!dataTable) return;\n",
              "\n",
              "        const docLinkHtml = 'Like what you see? Visit the ' +\n",
              "          '<a target=\"_blank\" href=https://colab.research.google.com/notebooks/data_table.ipynb>data table notebook</a>'\n",
              "          + ' to learn more about interactive tables.';\n",
              "        element.innerHTML = '';\n",
              "        dataTable['output_type'] = 'display_data';\n",
              "        await google.colab.output.renderOutput(dataTable, element);\n",
              "        const docLink = document.createElement('div');\n",
              "        docLink.innerHTML = docLinkHtml;\n",
              "        element.appendChild(docLink);\n",
              "      }\n",
              "    </script>\n",
              "  </div>\n",
              "\n",
              "\n",
              "<div id=\"df-c92356e3-eb4c-4ecd-9ba6-ed83052fae8d\">\n",
              "  <button class=\"colab-df-quickchart\" onclick=\"quickchart('df-c92356e3-eb4c-4ecd-9ba6-ed83052fae8d')\"\n",
              "            title=\"Suggest charts\"\n",
              "            style=\"display:none;\">\n",
              "\n",
              "<svg xmlns=\"http://www.w3.org/2000/svg\" height=\"24px\"viewBox=\"0 0 24 24\"\n",
              "     width=\"24px\">\n",
              "    <g>\n",
              "        <path d=\"M19 3H5c-1.1 0-2 .9-2 2v14c0 1.1.9 2 2 2h14c1.1 0 2-.9 2-2V5c0-1.1-.9-2-2-2zM9 17H7v-7h2v7zm4 0h-2V7h2v10zm4 0h-2v-4h2v4z\"/>\n",
              "    </g>\n",
              "</svg>\n",
              "  </button>\n",
              "\n",
              "<style>\n",
              "  .colab-df-quickchart {\n",
              "      --bg-color: #E8F0FE;\n",
              "      --fill-color: #1967D2;\n",
              "      --hover-bg-color: #E2EBFA;\n",
              "      --hover-fill-color: #174EA6;\n",
              "      --disabled-fill-color: #AAA;\n",
              "      --disabled-bg-color: #DDD;\n",
              "  }\n",
              "\n",
              "  [theme=dark] .colab-df-quickchart {\n",
              "      --bg-color: #3B4455;\n",
              "      --fill-color: #D2E3FC;\n",
              "      --hover-bg-color: #434B5C;\n",
              "      --hover-fill-color: #FFFFFF;\n",
              "      --disabled-bg-color: #3B4455;\n",
              "      --disabled-fill-color: #666;\n",
              "  }\n",
              "\n",
              "  .colab-df-quickchart {\n",
              "    background-color: var(--bg-color);\n",
              "    border: none;\n",
              "    border-radius: 50%;\n",
              "    cursor: pointer;\n",
              "    display: none;\n",
              "    fill: var(--fill-color);\n",
              "    height: 32px;\n",
              "    padding: 0;\n",
              "    width: 32px;\n",
              "  }\n",
              "\n",
              "  .colab-df-quickchart:hover {\n",
              "    background-color: var(--hover-bg-color);\n",
              "    box-shadow: 0 1px 2px rgba(60, 64, 67, 0.3), 0 1px 3px 1px rgba(60, 64, 67, 0.15);\n",
              "    fill: var(--button-hover-fill-color);\n",
              "  }\n",
              "\n",
              "  .colab-df-quickchart-complete:disabled,\n",
              "  .colab-df-quickchart-complete:disabled:hover {\n",
              "    background-color: var(--disabled-bg-color);\n",
              "    fill: var(--disabled-fill-color);\n",
              "    box-shadow: none;\n",
              "  }\n",
              "\n",
              "  .colab-df-spinner {\n",
              "    border: 2px solid var(--fill-color);\n",
              "    border-color: transparent;\n",
              "    border-bottom-color: var(--fill-color);\n",
              "    animation:\n",
              "      spin 1s steps(1) infinite;\n",
              "  }\n",
              "\n",
              "  @keyframes spin {\n",
              "    0% {\n",
              "      border-color: transparent;\n",
              "      border-bottom-color: var(--fill-color);\n",
              "      border-left-color: var(--fill-color);\n",
              "    }\n",
              "    20% {\n",
              "      border-color: transparent;\n",
              "      border-left-color: var(--fill-color);\n",
              "      border-top-color: var(--fill-color);\n",
              "    }\n",
              "    30% {\n",
              "      border-color: transparent;\n",
              "      border-left-color: var(--fill-color);\n",
              "      border-top-color: var(--fill-color);\n",
              "      border-right-color: var(--fill-color);\n",
              "    }\n",
              "    40% {\n",
              "      border-color: transparent;\n",
              "      border-right-color: var(--fill-color);\n",
              "      border-top-color: var(--fill-color);\n",
              "    }\n",
              "    60% {\n",
              "      border-color: transparent;\n",
              "      border-right-color: var(--fill-color);\n",
              "    }\n",
              "    80% {\n",
              "      border-color: transparent;\n",
              "      border-right-color: var(--fill-color);\n",
              "      border-bottom-color: var(--fill-color);\n",
              "    }\n",
              "    90% {\n",
              "      border-color: transparent;\n",
              "      border-bottom-color: var(--fill-color);\n",
              "    }\n",
              "  }\n",
              "</style>\n",
              "\n",
              "  <script>\n",
              "    async function quickchart(key) {\n",
              "      const quickchartButtonEl =\n",
              "        document.querySelector('#' + key + ' button');\n",
              "      quickchartButtonEl.disabled = true;  // To prevent multiple clicks.\n",
              "      quickchartButtonEl.classList.add('colab-df-spinner');\n",
              "      try {\n",
              "        const charts = await google.colab.kernel.invokeFunction(\n",
              "            'suggestCharts', [key], {});\n",
              "      } catch (error) {\n",
              "        console.error('Error during call to suggestCharts:', error);\n",
              "      }\n",
              "      quickchartButtonEl.classList.remove('colab-df-spinner');\n",
              "      quickchartButtonEl.classList.add('colab-df-quickchart-complete');\n",
              "    }\n",
              "    (() => {\n",
              "      let quickchartButtonEl =\n",
              "        document.querySelector('#df-c92356e3-eb4c-4ecd-9ba6-ed83052fae8d button');\n",
              "      quickchartButtonEl.style.display =\n",
              "        google.colab.kernel.accessAllowed ? 'block' : 'none';\n",
              "    })();\n",
              "  </script>\n",
              "</div>\n",
              "    </div>\n",
              "  </div>\n"
            ]
          },
          "metadata": {},
          "execution_count": 31
        }
      ]
    },
    {
      "cell_type": "code",
      "source": [
        "# ¿Hay valores nulos?\n"
      ],
      "metadata": {
        "id": "fkfQNdNh1KMG"
      },
      "execution_count": null,
      "outputs": []
    },
    {
      "cell_type": "markdown",
      "source": [
        "Creamos un nuevo dataset que contenga únicamente las columnas de acidez"
      ],
      "metadata": {
        "id": "u_K-XkqG1OFH"
      }
    },
    {
      "cell_type": "code",
      "source": [
        "# Quedarse en un nuevo dataframe solo las columnas de acided\n"
      ],
      "metadata": {
        "id": "0Lhfs7vP1No_"
      },
      "execution_count": null,
      "outputs": []
    },
    {
      "cell_type": "code",
      "source": [
        "# Comprobar los resultados\n"
      ],
      "metadata": {
        "id": "WX5IUZJy1izX"
      },
      "execution_count": null,
      "outputs": []
    },
    {
      "cell_type": "markdown",
      "source": [
        "Representamos ahora los histogramas de las variables en una sola imagen"
      ],
      "metadata": {
        "id": "u_sW6BC71p6h"
      }
    },
    {
      "cell_type": "code",
      "source": [
        "# Mostrar los resultados en un histograma conjunto\n",
        "for col in df_acidez.columns:\n",
        "  plt.hist(df_acidez[col],edgecolor='black')\n",
        "\n",
        "plt.title('Histograma de frecuencia de las variables de acidez', fontsize=16)\n",
        "plt.xlabel('Valor de las variables', fontsize=14)\n",
        "plt.ylabel('Frecuencia', fontsize=14)\n",
        "plt.legend(['fixed_acidity','volatile_acidity','citric_acid','pH'])\n",
        "\n",
        "plt.show()"
      ],
      "metadata": {
        "id": "lhM8gK-IxPWL"
      },
      "execution_count": null,
      "outputs": []
    },
    {
      "cell_type": "markdown",
      "source": [
        "Aplicamos como solución para poder interpretar en una misma escala las medidas de las diferentes variables un escalado máximo mínimo. Para ello usaremos el MinMaxScaler de sklearn"
      ],
      "metadata": {
        "id": "MEgWc_F53IjR"
      }
    },
    {
      "cell_type": "code",
      "source": [
        "# Defino el objeto\n",
        "scaler = MinMaxScaler()\n",
        "# Ajusta el scaler al minimo y maximo en función de la distribución\n",
        "scaler.fit(df_acidez)\n",
        "# Aplica las transformación a los datos del dataframe\n",
        "df_acidez_mm = pd.DataFrame(scaler.fit_transform(df_acidez))"
      ],
      "metadata": {
        "id": "xXwD-aNX2xSK"
      },
      "execution_count": null,
      "outputs": []
    },
    {
      "cell_type": "code",
      "source": [
        "# Lo volvemos a mostrar escalado\n",
        "for col in df_acidez_mm.columns:\n",
        "  plt.hist(df_acidez_mm[col],edgecolor='black',alpha=0.7)\n",
        "\n",
        "plt.title('Histograma de frecuencia de las variables de acidez con escalado M-M', fontsize=16)\n",
        "plt.xlabel('Valor de las variables escaladas', fontsize=14)\n",
        "plt.ylabel('Frecuencia', fontsize=14)\n",
        "plt.legend(['fixed_acidity','volatile_acidity','citric_acid','pH'])\n",
        "\n",
        "plt.show()"
      ],
      "metadata": {
        "colab": {
          "base_uri": "https://localhost:8080/",
          "height": 479
        },
        "id": "LGvgL1LB4Bc_",
        "outputId": "63e2d3bb-731d-4567-b32b-c79523759b44"
      },
      "execution_count": null,
      "outputs": [
        {
          "output_type": "display_data",
          "data": {
            "text/plain": [
              "<Figure size 640x480 with 1 Axes>"
            ],
            "image/png": "[encoded data removed]"
          },
          "metadata": {}
        }
      ]
    },
    {
      "cell_type": "code",
      "source": [
        "scaler = StandardScaler()\n",
        "scaler.fit(df_acidez)\n",
        "\n",
        "df_acidez_st = pd.DataFrame(scaler.fit_transform(df_acidez))"
      ],
      "metadata": {
        "id": "bWDhQWQi4KCw"
      },
      "execution_count": null,
      "outputs": []
    },
    {
      "cell_type": "code",
      "source": [
        "for col in df_acidez_st.columns:\n",
        "  plt.hist(df_acidez_st[col],edgecolor='black',alpha=0.7)\n",
        "\n",
        "plt.title('Histograma de frecuencia de las variables de acidez estandarizadas', fontsize=16)\n",
        "plt.xlabel('Valor de las variables estandarizdas', fontsize=14)\n",
        "plt.ylabel('Frecuencia', fontsize=14)\n",
        "plt.legend(['fixed_acidity','volatile_acidity','citric_acid','pH'])\n",
        "\n",
        "plt.show()"
      ],
      "metadata": {
        "colab": {
          "base_uri": "https://localhost:8080/",
          "height": 479
        },
        "id": "-XRHr7z_DFGh",
        "outputId": "5ba93ec2-aae7-441a-bed0-a221e21970fa"
      },
      "execution_count": null,
      "outputs": [
        {
          "output_type": "display_data",
          "data": {
            "text/plain": [
              "<Figure size 640x480 with 1 Axes>"
            ],
            "image/png": "[encoded data removed]"
          },
          "metadata": {}
        }
      ]
    },
    {
      "cell_type": "markdown",
      "source": [
        "Atendiendo a los histogramas podemos concluir que mediante diferentes métodos de normalización hemos demostrado que los valores de acidez se distribuyen de forma similar en los vinos"
      ],
      "metadata": {
        "id": "R7g7a4eLDTGJ"
      }
    },
    {
      "cell_type": "markdown",
      "source": [
        "¿Tiene sentido aplicar la normalización l2 a este caso?"
      ],
      "metadata": {
        "id": "t8KtNJLxU3bq"
      }
    }
  ]
}