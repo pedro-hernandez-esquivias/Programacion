{
  "nbformat": 4,
  "nbformat_minor": 0,
  "metadata": {
    "colab": {
      "provenance": [],
      "toc_visible": true,
      "include_colab_link": true
    },
    "kernelspec": {
      "name": "python3",
      "display_name": "Python 3"
    },
    "language_info": {
      "name": "python"
    }
  },
  "cells": [
    {
      "cell_type": "markdown",
      "metadata": {
        "id": "view-in-github",
        "colab_type": "text"
      },
      "source": [
        "<a href=\"https://colab.research.google.com/github/pedro-hernandez-esquivias/Programacion/blob/main/clasificacion_fumadores.ipynb\" target=\"_parent\"><img src=\"https://colab.research.google.com/assets/colab-badge.svg\" alt=\"Open In Colab\"/></a>"
      ]
    },
    {
      "cell_type": "markdown",
      "source": [
        "# Introducción\n",
        "\n",
        "En esta práctica vamos a examinar un conjunto de datos que contiene información biométrica y de salud, con el fin de determinar la presencia o ausencia del hábito de fumar en los individuos a partir de señales bio-saludables. El archivo smoking.csv que utilizaremos incluye características diferentes, tales como edad, peso, altura, niveles de glucosa en ayuno y colesterol, entre otros.\n",
        "\n",
        "Este análisis nos permitirá aplicar y profundizar en técnicas de Machine Learning como SVM y kNN, así como en métodos de ingeniería de características, esenciales para la preparación y optimización de los datos para la modelización. Abordaremos la transformación de variables numéricas y categóricas, y exploraremos cómo estos procesos afectan el rendimiento de los modelos predictivos.\n",
        "\n",
        "Comenzaremos con una exploración de los datos para entender su estructura y las relaciones entre las diferentes variables. Posteriormente, prepararemos los datos para su análisis, aplicando técnicas de preprocesamiento y generando nuevas características que nos ayudarán a capturar la complejidad del conjunto de datos y a mejorar la precisión de nuestros modelos predictivos."
      ],
      "metadata": {
        "id": "vdSuy9p-qrlr"
      }
    },
    {
      "cell_type": "markdown",
      "source": [
        "## El Dataset\n",
        "\n",
        "El conjunto de datos con el que trabajaremos incluye una serie de atributos relacionados con la salud y mediciones biométricas. Aquí está la descripción de cada atributo y su posible asociación con el hábito de fumar:\n",
        "\n",
        "* **ID**: Identificador único para cada individuo en el dataset. No tiene asociación directa con el hábito de fumar.\n",
        "* **Gender**: Género del individuo, que puede tener variaciones en la prevalencia del hábito de fumar.\n",
        "* **Age**: Edad del individuo, presentada en intervalos de 5 años. La prevalencia del hábito de fumar a menudo disminuye con la edad.\n",
        "* **Height**: Altura en centímetros. No tiene una asociación directa con el hábito de fumar.\n",
        "* **Weight**: Peso en kilogramos. El fumar puede influir en el peso y varía individualmente.\n",
        "* **Waist**: Circunferencia de la cintura en centímetros. El fumar puede afectar la distribución de la grasa corporal.\n",
        "* **Eyesight** (Left/Right): Medición de la agudeza visual para el ojo izquierdo/derecho. No tiene asociación directa con el hábito de fumar.\n",
        "* **Hearing** (Left/Right): Medición de la audición para el oído izquierdo/derecho. No tiene asociación directa con el hábito de fumar.\n",
        "* **Systolic BP**: Presión arterial sistólica. El fumar puede afectar la presión arterial.\n",
        "* **Diastolic BP**: Presión arterial diastólica. El fumar puede afectar la presión arterial.\n",
        "* **Fasting Blood Sugar**: Nivel de azúcar en sangre en ayuno. El fumar puede impactar los niveles de azúcar en sangre.\n",
        "Cholesterol (Total): Nivel total de colesterol. El fumar puede influir en los niveles de colesterol.\n",
        "* **Triglyceride**: Nivel de triglicéridos. El fumar puede influir en los niveles de triglicéridos.\n",
        "* **HDL Cholesterol**: Nivel de colesterol HDL. El fumar puede disminuir los niveles de colesterol HDL.\n",
        "* **LDL Cholesterol**: Nivel de colesterol LDL. El fumar puede influir en los niveles de colesterol LDL.\n",
        "* **Hemoglobin**: Nivel de hemoglobina. No tiene asociación directa con el hábito de fumar.\n",
        "* **Urine Protein**: Presencia de proteína en la orina. El fumar puede impactar la función renal.\n",
        "* **Serum Creatinine**: Nivel de creatinina en suero. El fumar puede impactar la función renal.\n",
        "* **AST/ALT**: Niveles de transaminasas glutámico oxaloacéticas. El fumar puede impactar la función hepática.\n",
        "* **GTP**: Nivel de γ-GTP. El fumar puede impactar el nivel de enzimas hepáticas.\n",
        "* **Oral Exam Status**: Estado del examen oral. El fumar puede impactar la salud oral.\n",
        "* **Dental Caries**: Presencia de caries dentales. El fumar puede afectar la salud dental.\n",
        "* **Tartar Status**: Estado del tártaro. El fumar puede afectar la salud dental.\n",
        "* **Blood Group**: Grupo sanguíneo del individuo.\n",
        "* **Smoking Status**: Indica si el individuo es fumador o no. Esta es la variable objetivo que indica directamente el hábito de fumar.\n",
        "\n",
        "Es importante comprender estas asociaciones, ya que nos ayudarán a determinar qué características pueden ser más relevantes para nuestros modelos predictivos y cómo podríamos necesitar transformarlas para mejorar la precisión de nuestras predicciones.\n",
        "\n",
        "\n",
        "\n",
        "\n",
        "\n"
      ],
      "metadata": {
        "id": "Yl0_LyGZrGOp"
      }
    },
    {
      "cell_type": "markdown",
      "source": [
        "# 0. Importación de librerías"
      ],
      "metadata": {
        "id": "d60VIJZINyBS"
      }
    },
    {
      "cell_type": "code",
      "execution_count": null,
      "metadata": {
        "id": "tA7yeijqohkR"
      },
      "outputs": [],
      "source": []
    },
    {
      "cell_type": "markdown",
      "source": [
        "# Exploración Inicial de Datos"
      ],
      "metadata": {
        "id": "ItQsSaF-u4HL"
      }
    },
    {
      "cell_type": "markdown",
      "source": [
        "**Ejercicio 1** - Declara el tamaño del dataset. Con respecto a las columnas, identifica qué variables son numéricas y cuáles son categóricas. ¿Cuál es el individuo menos pesado? ¿Y el más alto? Dibuja un histograma de hombres y mujeres atendiendo a si fuman o no."
      ],
      "metadata": {
        "id": "6lswA0aAvEm5"
      }
    },
    {
      "cell_type": "code",
      "source": [],
      "metadata": {
        "id": "bBRLUNiou7N9"
      },
      "execution_count": null,
      "outputs": []
    },
    {
      "cell_type": "markdown",
      "source": [
        "**Ejercicio 2** - Sobre la variable continua \"age\" aplica una binarización por umbralización, tomando como umbral la media de las edades, incluyendo esta variable en el Dataframe como \"age_bin\". Haz un conteo de las dos categorías resultantes en la variable binarizada. Sobre la variable continua \"Cholesterol\" aplica una agrupación por cuantiles usando percentiles. Incluye esta variable en el dataframe como \"Cholesterol_per\"."
      ],
      "metadata": {
        "id": "XdkTpaibvNH5"
      }
    },
    {
      "cell_type": "code",
      "source": [],
      "metadata": {
        "id": "oLtX0HEmvMSK"
      },
      "execution_count": null,
      "outputs": []
    },
    {
      "cell_type": "markdown",
      "source": [
        "**Ejercicio 3** - Sobre la variable continua \"fasting blood sugar\" aplica un escalado máximo-mínimo. Dibuja un histograma de la variable original y otro histograma de la variable tras el escalado: ¿qué conclusiones sacas viendo ambos histogramas?"
      ],
      "metadata": {
        "id": "mM60w40JvbFq"
      }
    },
    {
      "cell_type": "code",
      "source": [],
      "metadata": {
        "id": "J9r6wWDsvgYv"
      },
      "execution_count": null,
      "outputs": []
    },
    {
      "cell_type": "markdown",
      "source": [
        "**Ejercicio 4** - Aisla la variable discreta \"blood_group\" en un dataframe que se componga de esa única variable. Genera 3 dataframes diferentes:\n",
        "\n",
        "*   Uno con variables generadas mediante el método one-hot encoding\n",
        "*   Otro con variables generadas mediante el método dummy coding\n",
        "*   Un último con variables generadas mediante el método effect coding\n",
        "\n"
      ],
      "metadata": {
        "id": "wPO_BeCYvlzC"
      }
    },
    {
      "cell_type": "code",
      "source": [],
      "metadata": {
        "id": "ijHa74tHvy5O"
      },
      "execution_count": null,
      "outputs": []
    },
    {
      "cell_type": "markdown",
      "source": [
        "# Preprocesamiento de Datos\n",
        "\n",
        "**Ejercicio 5**: En esta sección, continuar con la preparación de nuestro conjunto de datos para el análisis. Basándose en las tareas realizadas anteriormente:\n",
        "\n",
        "* **División del conjunto de datos**: Segmentar los datos utilizando la librería scikitlearn con la semilla reproducible \"1234\", utilizando un 80% de conjunto de entrenamiento y un 20% de conjunto de testeo. Indicar el tamaño de ambos conjuntos."
      ],
      "metadata": {
        "id": "jFxXbswNxPcj"
      }
    },
    {
      "cell_type": "code",
      "source": [],
      "metadata": {
        "id": "QCH2vsKExV3z"
      },
      "execution_count": null,
      "outputs": []
    },
    {
      "cell_type": "markdown",
      "source": [
        "# Análisis Exploratorio de Datos (EDA)\n",
        "\n",
        "**Ejercicio 6**: Explorar profundamente los datos para obtener insights que guíen la construcción del modelo:\n",
        "\n",
        "* **Distribución de variables**: Para la variable \"age\" aplicar una agrupación por cuantiles utilizando deciles. Para cada grupo calcular el WoE asociado de forma manual. Calcular el IV de la variable discretizada con respecto al target. ¿Crees que es una variable importante de cara a su relación con la variable objetivo (smoking)?\n",
        "\n",
        "* **Relaciones entre variables**: Realiza el mismo ejercicio para la variable \"Height\". Segun los resultados obtenidos, ¿cuál crees que tiene un poder predictor más fuerte?"
      ],
      "metadata": {
        "id": "ToAZAEkVz2XX"
      }
    },
    {
      "cell_type": "code",
      "source": [],
      "metadata": {
        "id": "vizpvohf1IRM"
      },
      "execution_count": null,
      "outputs": []
    },
    {
      "cell_type": "markdown",
      "source": [
        "# Selección de Características\n",
        "\n",
        "**Ejercicio 7**: Evaluar y seleccionar las características más informativas para el modelo:\n",
        "\n",
        "* **Determinación de características relevantes**: Utilizando el atributo \".corr()\" del DataFrame en formato pandas enuncia las 3 variables que más se correlen con la variable objetivo. ¿Qué interpretación lógica puedes dar a la correlación obtenida con respecto a dichas variables?\n"
      ],
      "metadata": {
        "id": "xKgV_Lb61LkB"
      }
    },
    {
      "cell_type": "code",
      "source": [],
      "metadata": {
        "id": "a707Be1L1WSk"
      },
      "execution_count": null,
      "outputs": []
    },
    {
      "cell_type": "markdown",
      "source": [
        "# Construcción del Modelo\n",
        "\n",
        "**Ejercicio 8**: Elegir y aplicar el modelo de clasificación adecuado a partir de las opciones vistas en clase:\n",
        "\n",
        "* **Entrenamiento**: Capacitar el modelo seleccionado con el conjunto de entrenamiento mediante el algoritmo kNN o el SVM. Justifica tu respuesta.\n"
      ],
      "metadata": {
        "id": "TyzYdzD21iJ6"
      }
    },
    {
      "cell_type": "code",
      "source": [],
      "metadata": {
        "id": "xQhyUHrp1lqG"
      },
      "execution_count": null,
      "outputs": []
    },
    {
      "cell_type": "markdown",
      "source": [
        "# Evaluación del Modelo\n",
        "\n",
        "**Ejercicio 9**: Evaluar el rendimiento del modelo es clave para entender su efectividad. Se incluye:\n",
        "\n",
        "* **Comparación de métricas**: Observar y analizar métricas de rendimiento vistas en clase tales como el accuracy, la precisión, recall, F1-score, AUC-ROC y matriz de confusión. ¿Qué conclusiones se pueden extraer de cada una de estás métricas?\n",
        "\n",
        "* **Validación cruzada**: Utilizar la validación cruzada para optimizar hiperparámetros y confirmar la estabilidad del modelo. ¿Cuál es la mejor configuración de parámetros?"
      ],
      "metadata": {
        "id": "d31OmxDV1zQx"
      }
    },
    {
      "cell_type": "code",
      "source": [],
      "metadata": {
        "id": "_pNbevMz2H0J"
      },
      "execution_count": null,
      "outputs": []
    },
    {
      "cell_type": "markdown",
      "source": [
        "# Interpretación de Resultados y Conclusiones\n",
        "\n",
        "**Ejercicio 10**: Analizar la influencia de cada característica y propuestas de mejora del modelo.\n",
        "\n",
        "* Según lo examinado en el modelo, ¿Cuál crees que es la característica más\n",
        "importante? Justifica tu respuesta.\n",
        "* ¿Cómo crees que podrías mejorar el modelo en futuras iteraciones?\n",
        "\n"
      ],
      "metadata": {
        "id": "OCETMXVh2Lsx"
      }
    },
    {
      "cell_type": "code",
      "source": [],
      "metadata": {
        "id": "_DVOpm2L2f2f"
      },
      "execution_count": null,
      "outputs": []
    }
  ]
}